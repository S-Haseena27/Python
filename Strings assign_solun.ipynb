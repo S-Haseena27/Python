{
 "cells": [
  {
   "cell_type": "markdown",
   "id": "cbfdd541",
   "metadata": {},
   "source": [
    "#### 1. Reverse a String:\n",
    "   Write a Python program that takes a string as input and returns the reverse of that string.\n",
    "\n",
    "   Example Input: `\"hello\"`\n",
    "   Example Output: `\"olleh\"`\n"
   ]
  },
  {
   "cell_type": "code",
   "execution_count": 1,
   "id": "d2da0221",
   "metadata": {},
   "outputs": [
    {
     "name": "stdout",
     "output_type": "stream",
     "text": [
      "hello\n",
      "olleh\n"
     ]
    }
   ],
   "source": [
    "a=input()\n",
    "b=''\n",
    "for i in a:\n",
    "    b=i+b\n",
    "print(b)\n",
    "    "
   ]
  },
  {
   "cell_type": "markdown",
   "id": "f2b828cb",
   "metadata": {},
   "source": [
    "#### 2. Count Vowels:\n",
    "   Create a Python program that counts the number of vowels (a, e, i, o, u) in a given string.\n",
    "\n",
    "   Example Input: `\"programming is fun\"`\n",
    "   Example Output: `5` (There are five vowels in the input string.)\n"
   ]
  },
  {
   "cell_type": "code",
   "execution_count": 3,
   "id": "f91c775c",
   "metadata": {},
   "outputs": [
    {
     "name": "stdout",
     "output_type": "stream",
     "text": [
      "programming is fun\n",
      "5\n"
     ]
    }
   ],
   "source": [
    "a=input()\n",
    "b=['a','e','i','o','u']\n",
    "count=0\n",
    "for i in a.lower():\n",
    "    if i in b:\n",
    "        count+=1\n",
    "        \n",
    "print(count)"
   ]
  },
  {
   "cell_type": "markdown",
   "id": "6cdebdeb",
   "metadata": {},
   "source": [
    "#### 3. Palindrome Check:\n",
    "   Write a Python program that checks if a given string is a palindrome (reads the same forwards and backwards). Ignore spaces, punctuation, and capitalization.\n",
    "\n",
    "   Example Input: `\"A man, a plan, a canal, Panama\"`\n",
    "   Example Output: `True`\n"
   ]
  },
  {
   "cell_type": "code",
   "execution_count": 18,
   "id": "946e58a6",
   "metadata": {},
   "outputs": [
    {
     "name": "stdout",
     "output_type": "stream",
     "text": [
      "A man, a plan, a canal, Panama\n",
      "AmanaplanacanalPanama\n",
      "True\n"
     ]
    }
   ],
   "source": [
    "a=input().split(', ')\n",
    "a=''.join(a)\n",
    "b=a.split()\n",
    "b=''.join(b)\n",
    "c=''\n",
    "for i in b.lower():\n",
    "    c=i+c\n",
    "print(b)\n",
    "if b.lower()==c.lower():\n",
    "    print(\"True\")\n",
    "else:\n",
    "    print(\"False\")\n",
    "    "
   ]
  },
  {
   "cell_type": "markdown",
   "id": "cfd9bcf2",
   "metadata": {},
   "source": [
    "#### 4. Anagrams Check:\n",
    "   Implement a Python program that checks if two strings are anagrams of each other. Anagrams are words or phrases formed by rearranging the letters of another.\n",
    "\n",
    "   Example Input: `\"listen\"` and `\"silent\"`\n",
    "   Example Output: `True` (These two strings are anagrams of each other.)\n",
    "\n"
   ]
  },
  {
   "cell_type": "code",
   "execution_count": 28,
   "id": "a4090dd7",
   "metadata": {},
   "outputs": [
    {
     "name": "stdout",
     "output_type": "stream",
     "text": [
      "listen\n",
      "listenl\n",
      "False\n"
     ]
    }
   ],
   "source": [
    "a=list(input().lower())\n",
    "b=list(input().lower())\n",
    "a=sorted(a)\n",
    "b=sorted(b)\n",
    "count=0\n",
    "if len(a)==len(b):\n",
    "    for i,j in zip(a,b):\n",
    "        if i==j:\n",
    "            count+=1\n",
    "        else:\n",
    "            print(\"False\")\n",
    "            break\n",
    "    if len(a)==count:\n",
    "        print(\"True\")\n",
    "        \n",
    "else:\n",
    "    print(\"False\")"
   ]
  },
  {
   "cell_type": "markdown",
   "id": "61cf248a",
   "metadata": {},
   "source": [
    "#### 5. Longest Substring Without Repeating Characters:\n",
    "   Write a Python function that finds the length of the longest substring without repeating characters in a given string.\n",
    "\n",
    "   Example Input: `\"abcabcbb\"`\n",
    "   Example Output: `3` (The longest substring without repeating characters is `\"abc\"`.)\n",
    "\n"
   ]
  },
  {
   "cell_type": "code",
   "execution_count": 31,
   "id": "7f36433d",
   "metadata": {},
   "outputs": [
    {
     "name": "stdout",
     "output_type": "stream",
     "text": [
      "abcabcbb\n",
      "cab\n"
     ]
    },
    {
     "data": {
      "text/plain": [
       "3"
      ]
     },
     "execution_count": 31,
     "metadata": {},
     "output_type": "execute_result"
    }
   ],
   "source": [
    "a=input()\n",
    "b=set(a)\n",
    "\n",
    "\n",
    "len(b)"
   ]
  },
  {
   "cell_type": "code",
   "execution_count": null,
   "id": "82201fd1",
   "metadata": {},
   "outputs": [],
   "source": []
  }
 ],
 "metadata": {
  "kernelspec": {
   "display_name": "Python 3 (ipykernel)",
   "language": "python",
   "name": "python3"
  },
  "language_info": {
   "codemirror_mode": {
    "name": "ipython",
    "version": 3
   },
   "file_extension": ".py",
   "mimetype": "text/x-python",
   "name": "python",
   "nbconvert_exporter": "python",
   "pygments_lexer": "ipython3",
   "version": "3.10.13"
  }
 },
 "nbformat": 4,
 "nbformat_minor": 5
}
