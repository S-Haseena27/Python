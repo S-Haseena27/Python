{
 "cells": [
  {
   "cell_type": "markdown",
   "id": "717dd84b",
   "metadata": {},
   "source": [
    "#### Question 1: Write a Python program to create an empty dictionary."
   ]
  },
  {
   "cell_type": "code",
   "execution_count": 2,
   "id": "0c57d68b",
   "metadata": {},
   "outputs": [
    {
     "data": {
      "text/plain": [
       "dict"
      ]
     },
     "execution_count": 2,
     "metadata": {},
     "output_type": "execute_result"
    }
   ],
   "source": [
    "a = {}\n",
    "type(a)"
   ]
  },
  {
   "cell_type": "markdown",
   "id": "11ca31f6",
   "metadata": {},
   "source": [
    "#### Question 2: Write a Python program to add a key-value pair to a dictionary."
   ]
  },
  {
   "cell_type": "code",
   "execution_count": 18,
   "id": "4b9f74e7",
   "metadata": {},
   "outputs": [
    {
     "name": "stdout",
     "output_type": "stream",
     "text": [
      "{'c': 0, 'd': 1}\n"
     ]
    }
   ],
   "source": [
    "a = {}\n",
    "b = ('c','d')\n",
    "for i,j in enumerate(b):\n",
    "    a[j] = i\n",
    "print(a)"
   ]
  },
  {
   "cell_type": "markdown",
   "id": "e9961b59",
   "metadata": {},
   "source": [
    "#### Question 3: Write a Python program to remove a key-value pair from a dictionary."
   ]
  },
  {
   "cell_type": "code",
   "execution_count": 19,
   "id": "c0a029f7",
   "metadata": {},
   "outputs": [
    {
     "name": "stdout",
     "output_type": "stream",
     "text": [
      "{'USA': 2}\n"
     ]
    }
   ],
   "source": [
    "a = {'india':1,'USA':2}\n",
    "key = 'india'\n",
    "a.pop(key)\n",
    "print(a)"
   ]
  },
  {
   "cell_type": "markdown",
   "id": "1f7c8116",
   "metadata": {},
   "source": [
    "#### Question 4: Write a Python program to check if a key exists in a dictionary."
   ]
  },
  {
   "cell_type": "code",
   "execution_count": 24,
   "id": "afd4e687",
   "metadata": {},
   "outputs": [
    {
     "name": "stdout",
     "output_type": "stream",
     "text": [
      "key is exists\n"
     ]
    }
   ],
   "source": [
    "a = {'india':1,'USA':2}\n",
    "key = 'india'\n",
    "b = []\n",
    "for i in a.keys():\n",
    "    b.append(i)\n",
    "if key in b:\n",
    "    print(\"key is exists\")\n",
    "else:\n",
    "    print(\"key not exists\")"
   ]
  },
  {
   "cell_type": "markdown",
   "id": "cb5dcf26",
   "metadata": {},
   "source": [
    "#### Question 5: Write a Python program to iterate over the keys and values of a dictionary."
   ]
  },
  {
   "cell_type": "code",
   "execution_count": 25,
   "id": "5d89f77b",
   "metadata": {},
   "outputs": [
    {
     "name": "stdout",
     "output_type": "stream",
     "text": [
      "('india', 1)\n",
      "('USA', 2)\n"
     ]
    }
   ],
   "source": [
    "a = {'india':1,'USA':2}\n",
    "for i in a.items():\n",
    "    print(i)"
   ]
  },
  {
   "cell_type": "markdown",
   "id": "70fc86f2",
   "metadata": {},
   "source": [
    "#### Question 6: Write a Python program to find the length of a dictionary."
   ]
  },
  {
   "cell_type": "code",
   "execution_count": 29,
   "id": "b8e8fe59",
   "metadata": {},
   "outputs": [
    {
     "name": "stdout",
     "output_type": "stream",
     "text": [
      "2\n"
     ]
    }
   ],
   "source": [
    "a = {'india':1,'USA':2}\n",
    "length = 0\n",
    "for i in a.items():\n",
    "    length = length + 1\n",
    "print(length)"
   ]
  },
  {
   "cell_type": "markdown",
   "id": "80ce240c",
   "metadata": {},
   "source": [
    "#### Question 7: Write a Python program to merge two dictionaries."
   ]
  },
  {
   "cell_type": "code",
   "execution_count": 30,
   "id": "00688239",
   "metadata": {},
   "outputs": [
    {
     "name": "stdout",
     "output_type": "stream",
     "text": [
      "{'pakistan': 3, 'india': 1, 'USA': 2}\n"
     ]
    }
   ],
   "source": [
    "a = {'india':1,'USA':2}\n",
    "b = {'pakistan':3}\n",
    "for i in a.keys():\n",
    "    if i not in b.keys():\n",
    "        b[i] = a[i]\n",
    "print(b)"
   ]
  },
  {
   "cell_type": "markdown",
   "id": "f26d7195",
   "metadata": {},
   "source": [
    "#### Question 8: Write a Python program to find the maximum and minimum values in a dictionary."
   ]
  },
  {
   "cell_type": "code",
   "execution_count": 33,
   "id": "55a4cf21",
   "metadata": {},
   "outputs": [
    {
     "name": "stdout",
     "output_type": "stream",
     "text": [
      "min_value : 1\n",
      "max_value : 2\n"
     ]
    }
   ],
   "source": [
    "a = {'india':1,'USA':2}\n",
    "print(\"min_value :\",min(a.values()))\n",
    "print(\"max_value :\",max(a.values()))"
   ]
  },
  {
   "cell_type": "markdown",
   "id": "08cf1df7",
   "metadata": {},
   "source": [
    "#### Question 9: Write a Python program to count the occurrences of each value in a dictionary."
   ]
  },
  {
   "cell_type": "code",
   "execution_count": 40,
   "id": "02f9f8b5",
   "metadata": {},
   "outputs": [
    {
     "name": "stdout",
     "output_type": "stream",
     "text": [
      "count of 1 = 1\n",
      "count of 2 = 2\n"
     ]
    }
   ],
   "source": [
    "a = {'india':1,'USA':2, 'america':2}\n",
    "b = list(a.values())\n",
    "s = set(a.values())\n",
    "for i in s:\n",
    "    print(f\"count of {i} = {b.count(i)}\")"
   ]
  },
  {
   "cell_type": "markdown",
   "id": "610c02a0",
   "metadata": {},
   "source": [
    "#### Question 10: Write a Python program to sort a dictionary by its values."
   ]
  },
  {
   "cell_type": "code",
   "execution_count": 50,
   "id": "1de59a7f",
   "metadata": {},
   "outputs": [
    {
     "name": "stdout",
     "output_type": "stream",
     "text": [
      "{'USA': 1, 'india': 2, 'america': 3}\n"
     ]
    }
   ],
   "source": [
    "a = {'india':2,'USA':1, 'america':3}\n",
    "b = list(a.values())\n",
    "b.sort()\n",
    "dict = {}\n",
    "for c in b:\n",
    "    for i,j in a.items():\n",
    "        if c == j:\n",
    "            dict[i] = j\n",
    "        else:\n",
    "            pass\n",
    "a = dict\n",
    "print(a)"
   ]
  },
  {
   "cell_type": "code",
   "execution_count": null,
   "id": "745774ae",
   "metadata": {},
   "outputs": [],
   "source": []
  }
 ],
 "metadata": {
  "kernelspec": {
   "display_name": "Python 3 (ipykernel)",
   "language": "python",
   "name": "python3"
  },
  "language_info": {
   "codemirror_mode": {
    "name": "ipython",
    "version": 3
   },
   "file_extension": ".py",
   "mimetype": "text/x-python",
   "name": "python",
   "nbconvert_exporter": "python",
   "pygments_lexer": "ipython3",
   "version": "3.10.9"
  }
 },
 "nbformat": 4,
 "nbformat_minor": 5
}
