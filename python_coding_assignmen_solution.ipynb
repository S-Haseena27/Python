{
 "cells": [
  {
   "cell_type": "markdown",
   "id": "4bd923a4",
   "metadata": {},
   "source": [
    "## 1.Write a Python program to count the number of characters in a string"
   ]
  },
  {
   "cell_type": "code",
   "execution_count": 1,
   "id": "df70b7ad",
   "metadata": {},
   "outputs": [
    {
     "name": "stdout",
     "output_type": "stream",
     "text": [
      "machine\n",
      "7\n"
     ]
    }
   ],
   "source": [
    "# using function\n",
    "\n",
    "a=input()\n",
    "print(len(a))"
   ]
  },
  {
   "cell_type": "code",
   "execution_count": 2,
   "id": "eed38844",
   "metadata": {},
   "outputs": [
    {
     "name": "stdout",
     "output_type": "stream",
     "text": [
      "machine\n",
      "7\n"
     ]
    }
   ],
   "source": [
    "# another method\n",
    "\n",
    "a=input()\n",
    "count=0\n",
    "for i in a:\n",
    "    count+=1\n",
    "print(count)\n",
    "    "
   ]
  },
  {
   "cell_type": "markdown",
   "id": "7cdfe987",
   "metadata": {},
   "source": [
    "## 2.Write a Python program to reverse a string"
   ]
  },
  {
   "cell_type": "code",
   "execution_count": 3,
   "id": "4aeef6aa",
   "metadata": {},
   "outputs": [
    {
     "name": "stdout",
     "output_type": "stream",
     "text": [
      "machine learning is a part of data science\n",
      "ecneics atad fo trap a si gninrael enihcam\n"
     ]
    }
   ],
   "source": [
    "a=input()\n",
    "b=a[::-1]\n",
    "print(b)"
   ]
  },
  {
   "cell_type": "code",
   "execution_count": 4,
   "id": "56226e18",
   "metadata": {},
   "outputs": [
    {
     "name": "stdout",
     "output_type": "stream",
     "text": [
      "machine learning is a part of data science\n",
      "ecneics atad fo trap a si gninrael enihcam\n"
     ]
    }
   ],
   "source": [
    "a=input()\n",
    "b=''\n",
    "for i in a:\n",
    "    b=i+b\n",
    "print(b)\n",
    "    "
   ]
  },
  {
   "cell_type": "markdown",
   "id": "6998ec1b",
   "metadata": {},
   "source": [
    "## 3.Write a Python program to check if a string is a palindrome"
   ]
  },
  {
   "cell_type": "code",
   "execution_count": 5,
   "id": "6de31d64",
   "metadata": {},
   "outputs": [
    {
     "name": "stdout",
     "output_type": "stream",
     "text": [
      "asdsa\n",
      "a is a palindrome\n"
     ]
    }
   ],
   "source": [
    "a=input()\n",
    "b=''\n",
    "for i in a:\n",
    "    b=i+b\n",
    "if a==b:\n",
    "    print('a is a palindrome')\n",
    "else:\n",
    "    print('a is a not palindrome')"
   ]
  },
  {
   "cell_type": "markdown",
   "id": "d8b889e8",
   "metadata": {},
   "source": [
    "## 4.Write a Python program to find the most common character in a string"
   ]
  },
  {
   "cell_type": "code",
   "execution_count": 6,
   "id": "f51c40fa",
   "metadata": {},
   "outputs": [
    {
     "name": "stdout",
     "output_type": "stream",
     "text": [
      "common\n",
      "o\n"
     ]
    }
   ],
   "source": [
    "a=input()\n",
    "b=[]\n",
    "\n",
    "for i in a:\n",
    "    b.append(a.count(i))\n",
    "\n",
    "c=b.index(max(b))\n",
    "print(a[c])\n",
    "\n",
    "    \n",
    "\n",
    "\n",
    "\n"
   ]
  },
  {
   "cell_type": "markdown",
   "id": "e71f1b26",
   "metadata": {},
   "source": [
    "## Write a Python program to check if two strings are anagrams"
   ]
  },
  {
   "cell_type": "code",
   "execution_count": null,
   "id": "13a0f66e",
   "metadata": {},
   "outputs": [],
   "source": []
  },
  {
   "cell_type": "markdown",
   "id": "432a7979",
   "metadata": {},
   "source": [
    "## 6: Write a Python program to remove all the vowels from a string"
   ]
  },
  {
   "cell_type": "code",
   "execution_count": 7,
   "id": "07bc63ca",
   "metadata": {},
   "outputs": [
    {
     "name": "stdout",
     "output_type": "stream",
     "text": [
      "machine\n",
      "mchn\n"
     ]
    }
   ],
   "source": [
    "a=['a','e','i','o','u']\n",
    "b=input()\n",
    "c=list(b)\n",
    "for i in a:\n",
    "    if i in c:\n",
    "        c.remove(i)\n",
    "\n",
    "print(''.join(c))"
   ]
  },
  {
   "cell_type": "markdown",
   "id": "0f29485e",
   "metadata": {},
   "source": [
    "## 7: Write a Python program to find the longest word in a string"
   ]
  },
  {
   "cell_type": "code",
   "execution_count": 9,
   "id": "4d24da0e",
   "metadata": {},
   "outputs": [
    {
     "name": "stdout",
     "output_type": "stream",
     "text": [
      "machine learning is a part of data science\n",
      "learning\n"
     ]
    }
   ],
   "source": [
    "a=input().split()\n",
    "b=[]\n",
    "\n",
    "for i in a:\n",
    "    b.append(len(i))\n",
    "\n",
    "c=b.index(max(b))\n",
    "print(a[c])\n",
    "\n",
    "\n"
   ]
  },
  {
   "cell_type": "markdown",
   "id": "fefab06a",
   "metadata": {},
   "source": [
    "## 8: Write a Python program to capitalize the first letter of each word in a string"
   ]
  },
  {
   "cell_type": "code",
   "execution_count": 10,
   "id": "2e3031c6",
   "metadata": {},
   "outputs": [
    {
     "name": "stdout",
     "output_type": "stream",
     "text": [
      "machine learning is a part of data science\n",
      "Machine Learning Is A Part Of Data Science\n"
     ]
    }
   ],
   "source": [
    "a=input()\n",
    "print(a.title())"
   ]
  },
  {
   "cell_type": "markdown",
   "id": "8539f5b5",
   "metadata": {},
   "source": [
    "## 9: Write a Python program to find the frequency of each character in a string"
   ]
  },
  {
   "cell_type": "code",
   "execution_count": 11,
   "id": "0325a04c",
   "metadata": {},
   "outputs": [
    {
     "name": "stdout",
     "output_type": "stream",
     "text": [
      "machime\n",
      "[2, 1, 1, 1, 1, 2, 1]\n"
     ]
    }
   ],
   "source": [
    "a=input()\n",
    "b=[]\n",
    "for i in a:\n",
    "    b.append(a.count(i))\n",
    "\n",
    "print(b)\n"
   ]
  },
  {
   "cell_type": "markdown",
   "id": "52fb4fbe",
   "metadata": {},
   "source": [
    "## 10: Write a Python program to check if a string is a valid email address"
   ]
  },
  {
   "cell_type": "code",
   "execution_count": 12,
   "id": "d3e0e323",
   "metadata": {},
   "outputs": [
    {
     "name": "stdout",
     "output_type": "stream",
     "text": [
      "['qweh123', 'gmail.com']\n"
     ]
    }
   ],
   "source": [
    "a='qweh123@gmail.com'\n",
    "b=a.count('@')\n",
    "c=a.count('.')\n",
    "if b==1 & c==1 :\n",
    "    d=a.split('.')\n",
    "    d=a.split('@')\n",
    "print(d)"
   ]
  },
  {
   "cell_type": "code",
   "execution_count": 13,
   "id": "763efec3",
   "metadata": {},
   "outputs": [
    {
     "name": "stdout",
     "output_type": "stream",
     "text": [
      "['qweh123@gmail', 'com']\n"
     ]
    }
   ],
   "source": [
    "a='qweh123@gmail.com'\n",
    "b=a.count('@')\n",
    "c=a.count('.')\n",
    "if b==1 & c==1 :\n",
    "    d=a.split('@')\n",
    "    d=a.split('.')\n",
    "print(d)"
   ]
  },
  {
   "cell_type": "code",
   "execution_count": 16,
   "id": "5a00eeec",
   "metadata": {},
   "outputs": [
    {
     "name": "stdout",
     "output_type": "stream",
     "text": [
      "hs8140276@gmail.com\n",
      "valid email\n"
     ]
    }
   ],
   "source": [
    "a=input()\n",
    "b=a.count('@')\n",
    "\n",
    "if b==1 :\n",
    "    d=a.split('@')\n",
    "    d[1]=d[1].split('.')\n",
    "    if d[0].isalnum() & d[1][0].isalpha() & d[1][1].isalpha():\n",
    "        print('valid email')\n",
    "    else:\n",
    "        print('invalid email')\n",
    "else:\n",
    "    print('invalid email')"
   ]
  },
  {
   "cell_type": "code",
   "execution_count": null,
   "id": "9d008d39",
   "metadata": {},
   "outputs": [],
   "source": []
  },
  {
   "cell_type": "code",
   "execution_count": null,
   "id": "8416c0a3",
   "metadata": {},
   "outputs": [],
   "source": []
  }
 ],
 "metadata": {
  "kernelspec": {
   "display_name": "Python 3 (ipykernel)",
   "language": "python",
   "name": "python3"
  },
  "language_info": {
   "codemirror_mode": {
    "name": "ipython",
    "version": 3
   },
   "file_extension": ".py",
   "mimetype": "text/x-python",
   "name": "python",
   "nbconvert_exporter": "python",
   "pygments_lexer": "ipython3",
   "version": "3.10.13"
  }
 },
 "nbformat": 4,
 "nbformat_minor": 5
}
