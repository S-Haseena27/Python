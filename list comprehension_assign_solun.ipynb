{
 "cells": [
  {
   "cell_type": "markdown",
   "id": "46b2bc92",
   "metadata": {},
   "source": [
    "#### 1. Even Numbers:\n",
    "   Write a Python program that generates a list of even numbers from 1 to 20 using list comprehension.\n",
    "\n",
    "   Example Output: `[2, 4, 6, 8, 10, 12, 14, 16, 18, 20]`\n"
   ]
  },
  {
   "cell_type": "code",
   "execution_count": 1,
   "id": "651f3513",
   "metadata": {},
   "outputs": [
    {
     "data": {
      "text/plain": [
       "[2, 4, 6, 8, 10, 12, 14, 16, 18, 20]"
      ]
     },
     "execution_count": 1,
     "metadata": {},
     "output_type": "execute_result"
    }
   ],
   "source": [
    "a=[i for i in range(1,21) if i%2==0]\n",
    "a"
   ]
  },
  {
   "cell_type": "markdown",
   "id": "58fc83c3",
   "metadata": {},
   "source": [
    "#### 2. Squared Numbers:\n",
    "   Create a Python program that generates a list of the squares of numbers from 1 to 10 using list comprehension.\n",
    "\n",
    "   Example Output: `[1, 4, 9, 16, 25, 36, 49, 64, 81, 100]`\n"
   ]
  },
  {
   "cell_type": "code",
   "execution_count": 2,
   "id": "8fc1c289",
   "metadata": {},
   "outputs": [
    {
     "data": {
      "text/plain": [
       "[1, 4, 9, 16, 25, 36, 49, 64, 81, 100]"
      ]
     },
     "execution_count": 2,
     "metadata": {},
     "output_type": "execute_result"
    }
   ],
   "source": [
    "a=[i*i for i in range(1,11)]\n",
    "a"
   ]
  },
  {
   "cell_type": "markdown",
   "id": "ca92d4ee",
   "metadata": {},
   "source": [
    "#### 3. Vowels in a String:\n",
    "   Write a Python program that takes a string as input and uses list comprehension to create a list of all the vowels in the string.\n",
    "\n",
    "   Example Input: `\"hello, world\"`\n",
    "   Example Output: `['e', 'o', 'o']`\n"
   ]
  },
  {
   "cell_type": "code",
   "execution_count": 6,
   "id": "5617e8b2",
   "metadata": {},
   "outputs": [
    {
     "name": "stdout",
     "output_type": "stream",
     "text": [
      "hello, world\n",
      "['e', 'o', 'o']\n"
     ]
    }
   ],
   "source": [
    "a=input()\n",
    "b=['a','e','i','o','u']\n",
    "c=[i for i in a.lower() if i in b]\n",
    "print(c)"
   ]
  },
  {
   "cell_type": "markdown",
   "id": "c6586b30",
   "metadata": {},
   "source": [
    "#### 4. Prime Numbers:\n",
    "   Create a Python program that generates a list of prime numbers between 1 and 50 using list comprehension.\n",
    "\n",
    "   Example Output: `[2, 3, 5, 7, 11, 13, 17, 19, 23, 29, 31, 37, 41, 43, 47]`\n"
   ]
  },
  {
   "cell_type": "code",
   "execution_count": 10,
   "id": "6f081978",
   "metadata": {},
   "outputs": [
    {
     "name": "stdout",
     "output_type": "stream",
     "text": [
      "[2, 3, 5, 7, 11, 13, 17, 19, 23, 29, 31, 37, 41, 43, 47]\n"
     ]
    }
   ],
   "source": [
    "a=[]\n",
    "for i in range(2,50):\n",
    "    count=0\n",
    "    for j in range(1,i):\n",
    "        if i%j==0:\n",
    "            count+=1\n",
    "    if count<2:\n",
    "        a.append(i)\n",
    "print(a)"
   ]
  },
  {
   "cell_type": "markdown",
   "id": "8bb65981",
   "metadata": {},
   "source": [
    "#### 5. Matrix Transposition:\n",
    "   Implement a Python program that takes a 2D matrix (list of lists) and uses list comprehensions to compute its transpose.\n",
    "\n",
    "   Example Input:\n",
    "   ```python\n",
    "   matrix = [[1, 2, 3],\n",
    "             [4, 5, 6],\n",
    "             [7, 8, 9]]\n",
    "   ```\n",
    "\n",
    "\n",
    "\n",
    "\n",
    "\n",
    "   Example Output:\n",
    "   ```python\n",
    "   transpose = [[1, 4, 7],\n",
    "                [2, 5, 8],\n",
    "                [3, 6, 9]]\n"
   ]
  },
  {
   "cell_type": "code",
   "execution_count": 11,
   "id": "e87d6b1f",
   "metadata": {},
   "outputs": [],
   "source": [
    "import numpy as np\n"
   ]
  },
  {
   "cell_type": "code",
   "execution_count": 18,
   "id": "f7d8b47a",
   "metadata": {},
   "outputs": [
    {
     "name": "stdout",
     "output_type": "stream",
     "text": [
      "input is [[1 2 3]\n",
      " [4 5 6]\n",
      " [7 8 9]]\n",
      "\n",
      "\n",
      "output is [[1 4 7]\n",
      " [2 5 8]\n",
      " [3 6 9]]\n"
     ]
    }
   ],
   "source": [
    "a=np.arange(1,10)\n",
    "b=a.reshape(3,3)\n",
    "print(f\"input is {b}\")\n",
    "print()\n",
    "print()\n",
    "print(f\"output is {b.T}\")"
   ]
  },
  {
   "cell_type": "code",
   "execution_count": 16,
   "id": "14961ffd",
   "metadata": {},
   "outputs": [],
   "source": []
  },
  {
   "cell_type": "code",
   "execution_count": null,
   "id": "c6f64ce7",
   "metadata": {},
   "outputs": [],
   "source": []
  }
 ],
 "metadata": {
  "kernelspec": {
   "display_name": "Python 3 (ipykernel)",
   "language": "python",
   "name": "python3"
  },
  "language_info": {
   "codemirror_mode": {
    "name": "ipython",
    "version": 3
   },
   "file_extension": ".py",
   "mimetype": "text/x-python",
   "name": "python",
   "nbconvert_exporter": "python",
   "pygments_lexer": "ipython3",
   "version": "3.10.9"
  }
 },
 "nbformat": 4,
 "nbformat_minor": 5
}
