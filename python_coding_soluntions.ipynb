{
 "cells": [
  {
   "cell_type": "markdown",
   "id": "827ceb83",
   "metadata": {},
   "source": [
    "##### 1. Function Basics:\n",
    "   Write a Python function that takes two numbers as arguments and returns their sum.\n"
   ]
  },
  {
   "cell_type": "code",
   "execution_count": 2,
   "id": "099590a9",
   "metadata": {},
   "outputs": [
    {
     "name": "stdout",
     "output_type": "stream",
     "text": [
      "3\n",
      "4\n"
     ]
    },
    {
     "data": {
      "text/plain": [
       "7"
      ]
     },
     "execution_count": 2,
     "metadata": {},
     "output_type": "execute_result"
    }
   ],
   "source": [
    "def add(a,b):\n",
    "    total=a+b\n",
    "    return total\n",
    "    \n",
    "a=int(input())\n",
    "b=int(input())\n",
    "add(a,b)"
   ]
  },
  {
   "cell_type": "markdown",
   "id": "978ff4c8",
   "metadata": {},
   "source": [
    "#### 2. Factorial Function:\n",
    "   Create a function to calculate the factorial of a given integer using recursion.\n"
   ]
  },
  {
   "cell_type": "code",
   "execution_count": 33,
   "id": "4c992f65",
   "metadata": {},
   "outputs": [
    {
     "name": "stdout",
     "output_type": "stream",
     "text": [
      "5\n"
     ]
    },
    {
     "data": {
      "text/plain": [
       "120"
      ]
     },
     "execution_count": 33,
     "metadata": {},
     "output_type": "execute_result"
    }
   ],
   "source": [
    "def calculating_factorial(a):\n",
    "    if a==1:\n",
    "        return a\n",
    "    else:\n",
    "        return a*calculating_factorial(a-1)\n",
    "    \n",
    "a=int(input())\n",
    "calculating_factorial(a)\n"
   ]
  },
  {
   "cell_type": "markdown",
   "id": "5d978d74",
   "metadata": {},
   "source": [
    "#### 3. Palindrome Checker:\n",
    "   Write a function that checks if a given string is a palindrome (reads the same backward as forward).\n"
   ]
  },
  {
   "cell_type": "code",
   "execution_count": 6,
   "id": "11fe187c",
   "metadata": {},
   "outputs": [
    {
     "data": {
      "text/plain": [
       "'palindrome'"
      ]
     },
     "execution_count": 6,
     "metadata": {},
     "output_type": "execute_result"
    }
   ],
   "source": [
    "def check_palindrome(a):\n",
    "    b=''\n",
    "    for i in a:\n",
    "        b=i+b\n",
    "    if a==b:\n",
    "        return \"palindrome\"\n",
    "    else:\n",
    "        return \"not palindrome\"\n",
    "\n",
    "a=input()\n",
    "check_palindrome(a)\n",
    "        "
   ]
  },
  {
   "cell_type": "markdown",
   "id": "9ab16e14",
   "metadata": {},
   "source": [
    "#### 4. Prime Number Checker:\n",
    "   Implement a function that checks if a given integer is a prime number.\n"
   ]
  },
  {
   "cell_type": "code",
   "execution_count": 8,
   "id": "f5a6d2ae",
   "metadata": {},
   "outputs": [
    {
     "name": "stdout",
     "output_type": "stream",
     "text": [
      "6\n"
     ]
    },
    {
     "data": {
      "text/plain": [
       "'Not a prime number'"
      ]
     },
     "execution_count": 8,
     "metadata": {},
     "output_type": "execute_result"
    }
   ],
   "source": [
    "def check_prime_num(a):\n",
    "    count=0\n",
    "    for i in range(1,a):\n",
    "        if a%i==0:\n",
    "            count+=1\n",
    "    if count==1:\n",
    "        return \"Prime number\"\n",
    "    else:\n",
    "        return \"Not a prime number\"\n",
    "    \n",
    "a=int(input())\n",
    "check_prime_num(a)"
   ]
  },
  {
   "cell_type": "markdown",
   "id": "33cdb882",
   "metadata": {},
   "source": [
    "#### 5. Reverse a String:\n",
    "   Create a function that takes a string as input and returns the string reversed.\n"
   ]
  },
  {
   "cell_type": "code",
   "execution_count": 9,
   "id": "c7f84b53",
   "metadata": {},
   "outputs": [
    {
     "name": "stdout",
     "output_type": "stream",
     "text": [
      "hello\n"
     ]
    },
    {
     "data": {
      "text/plain": [
       "'olleh'"
      ]
     },
     "execution_count": 9,
     "metadata": {},
     "output_type": "execute_result"
    }
   ],
   "source": [
    "def reverse(a):\n",
    "    b=''\n",
    "    for i in a:\n",
    "        b=i+b\n",
    "    return b\n",
    "\n",
    "a=input()\n",
    "reverse(a)"
   ]
  },
  {
   "cell_type": "markdown",
   "id": "dbcb8a22",
   "metadata": {},
   "source": [
    "#### 6. List Comprehension:\n",
    "   Write a function that takes a list of numbers as input and returns a new list containing only the even numbers using list comprehension.\n"
   ]
  },
  {
   "cell_type": "code",
   "execution_count": 16,
   "id": "40db4532",
   "metadata": {},
   "outputs": [
    {
     "name": "stdout",
     "output_type": "stream",
     "text": [
      "1 2 3 4\n"
     ]
    },
    {
     "data": {
      "text/plain": [
       "[2, 4]"
      ]
     },
     "execution_count": 16,
     "metadata": {},
     "output_type": "execute_result"
    }
   ],
   "source": [
    "def even_numbers(a):\n",
    "    b=[i for i in a if i%2==0]\n",
    "    return b\n",
    "\n",
    "a=list(map(int,input().split()))\n",
    "even_numbers(a)"
   ]
  },
  {
   "cell_type": "markdown",
   "id": "34f9f148",
   "metadata": {},
   "source": [
    "#### 7. Fibonacci Sequence:\n",
    "   Implement a function to generate the first N terms of the Fibonacci sequence.\n"
   ]
  },
  {
   "cell_type": "code",
   "execution_count": 15,
   "id": "b1ccf6d2",
   "metadata": {},
   "outputs": [
    {
     "name": "stdout",
     "output_type": "stream",
     "text": [
      "10\n"
     ]
    },
    {
     "data": {
      "text/plain": [
       "[0, 1, 1, 2, 3, 5, 8, 13, 21, 34]"
      ]
     },
     "execution_count": 15,
     "metadata": {},
     "output_type": "execute_result"
    }
   ],
   "source": [
    "def fibanacci_sequence(n):\n",
    "    a=0\n",
    "    b=1\n",
    "    s=[]\n",
    "    \n",
    "    for i in range(n):\n",
    "        if len(s)<n:\n",
    "            s.append(a)\n",
    "            s.append(b)\n",
    "            a+=b\n",
    "            b+=a\n",
    "    return s\n",
    "        \n",
    "n=int(input())       \n",
    "fibanacci_sequence(n)"
   ]
  },
  {
   "cell_type": "markdown",
   "id": "d6d2677e",
   "metadata": {},
   "source": [
    "#### 8. Anagram Checker:\n",
    "   Write a function that checks if two strings are anagrams of each other (contain the same letters in a different order).\n"
   ]
  },
  {
   "cell_type": "code",
   "execution_count": 18,
   "id": "a48578b5",
   "metadata": {},
   "outputs": [
    {
     "name": "stdout",
     "output_type": "stream",
     "text": [
      "listen\n",
      "silent\n",
      "anagrams\n"
     ]
    }
   ],
   "source": [
    "def check_anagram(a,b):\n",
    "    count=0\n",
    "    if len(a)==len(b):\n",
    "        for i,j in zip(a,b):\n",
    "            if i==j:\n",
    "                count+=1\n",
    "            else:\n",
    "                print(\"not anagrams\")\n",
    "                break\n",
    "        if len(a)==count:\n",
    "            print(\"anagrams\")\n",
    "\n",
    "    else:\n",
    "        print(\"anagrams\") \n",
    "\n",
    "    \n",
    "a=list(input().lower())\n",
    "b=list(input().lower())\n",
    "a=sorted(a)\n",
    "b=sorted(b)\n",
    "\n",
    "check_anagram(a,b)"
   ]
  },
  {
   "cell_type": "markdown",
   "id": "be2d71d1",
   "metadata": {},
   "source": [
    "#### 9. Function List Sorting:\n",
    "Create a Python function that takes a list of numbers as input and returns a new list with the numbers sorted in ascending order.\n"
   ]
  },
  {
   "cell_type": "code",
   "execution_count": 22,
   "id": "7c94df02",
   "metadata": {},
   "outputs": [
    {
     "name": "stdout",
     "output_type": "stream",
     "text": [
      "1 4 8 2 4 5\n"
     ]
    },
    {
     "data": {
      "text/plain": [
       "[1, 2, 4, 4, 5, 8]"
      ]
     },
     "execution_count": 22,
     "metadata": {},
     "output_type": "execute_result"
    }
   ],
   "source": [
    "def sorting(a):\n",
    "    b=[]\n",
    "    for i in range(len(a)):\n",
    "        b.append(min(a))\n",
    "        a.remove(min(a))\n",
    "    return b\n",
    "\n",
    "a=list(map(int,input().split()))\n",
    "sorting(a)"
   ]
  },
  {
   "cell_type": "markdown",
   "id": "2a9ecb93",
   "metadata": {},
   "source": [
    "#### 10.Function Unique Elements:\n",
    "Implement a Python function that takes a list as input and returns a new list containing only the unique elements from the original list, preserving their order.\n"
   ]
  },
  {
   "cell_type": "code",
   "execution_count": 23,
   "id": "80d99f4e",
   "metadata": {},
   "outputs": [
    {
     "name": "stdout",
     "output_type": "stream",
     "text": [
      "1 4 8 2 5 4 2\n"
     ]
    },
    {
     "data": {
      "text/plain": [
       "[1, 4, 8, 2, 5]"
      ]
     },
     "execution_count": 23,
     "metadata": {},
     "output_type": "execute_result"
    }
   ],
   "source": [
    "def unique_elements(a):\n",
    "    b=[]\n",
    "    for i in a:\n",
    "        if i not in b:\n",
    "            b.append(i)\n",
    "    return b\n",
    "\n",
    "a=list(map(int,input().split()))\n",
    "unique_elements(a)        "
   ]
  },
  {
   "cell_type": "code",
   "execution_count": null,
   "id": "bc5b032f",
   "metadata": {},
   "outputs": [],
   "source": []
  }
 ],
 "metadata": {
  "kernelspec": {
   "display_name": "Python 3 (ipykernel)",
   "language": "python",
   "name": "python3"
  },
  "language_info": {
   "codemirror_mode": {
    "name": "ipython",
    "version": 3
   },
   "file_extension": ".py",
   "mimetype": "text/x-python",
   "name": "python",
   "nbconvert_exporter": "python",
   "pygments_lexer": "ipython3",
   "version": "3.10.13"
  }
 },
 "nbformat": 4,
 "nbformat_minor": 5
}
