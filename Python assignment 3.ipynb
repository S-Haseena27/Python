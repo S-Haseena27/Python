{
 "cells": [
  {
   "cell_type": "markdown",
   "id": "d9068d98",
   "metadata": {},
   "source": [
    "#### 1 . print the count of each character in your name in an dictionary format \n",
    "\n",
    "ex :\n",
    "input = sai kamal \n",
    "output = {s=1 , a = 3 , i = 1 , ' ' = 1 , k = 1 , m = 1 , l = 1}"
   ]
  },
  {
   "cell_type": "code",
   "execution_count": 26,
   "id": "cdc1c5c0",
   "metadata": {},
   "outputs": [
    {
     "data": {
      "text/plain": [
       "{'l': 1, ' ': 1, 'm': 1, 'i': 1, 'k': 1, 'a': 3, 's': 1}"
      ]
     },
     "execution_count": 26,
     "metadata": {},
     "output_type": "execute_result"
    }
   ],
   "source": [
    "a=input()\n",
    "b=set(list(a))\n",
    "c={}\n",
    "\n",
    "for i in b:\n",
    "    count=0\n",
    "    for j in a:\n",
    "        if i==j:\n",
    "            count+=1\n",
    "    c[i]=count\n",
    "c"
   ]
  },
  {
   "cell_type": "code",
   "execution_count": null,
   "id": "97d83cae",
   "metadata": {},
   "outputs": [],
   "source": []
  },
  {
   "cell_type": "markdown",
   "id": "f4188a58",
   "metadata": {},
   "source": [
    "#### 2 . Python program to find the area of a triangle whose sides are given"
   ]
  },
  {
   "cell_type": "code",
   "execution_count": 2,
   "id": "6b5b8bb6",
   "metadata": {},
   "outputs": [
    {
     "name": "stdout",
     "output_type": "stream",
     "text": [
      "3\n",
      "4\n"
     ]
    },
    {
     "data": {
      "text/plain": [
       "6.0"
      ]
     },
     "execution_count": 2,
     "metadata": {},
     "output_type": "execute_result"
    }
   ],
   "source": [
    "a=int(input())\n",
    "b=int(input())\n",
    "area=(1/2)*a*b\n",
    "area"
   ]
  },
  {
   "cell_type": "markdown",
   "id": "8ec9a6f9",
   "metadata": {},
   "source": [
    "#### 3 . Python program to find out the average of a set of integers"
   ]
  },
  {
   "cell_type": "code",
   "execution_count": 4,
   "id": "1e0c62c4",
   "metadata": {},
   "outputs": [
    {
     "data": {
      "text/plain": [
       "3.5"
      ]
     },
     "execution_count": 4,
     "metadata": {},
     "output_type": "execute_result"
    }
   ],
   "source": [
    "a={1,2,3,4,5,6}\n",
    "c=0\n",
    "for i in a:\n",
    "    c=c+i\n",
    "avg=c/(len(a))\n",
    "avg\n"
   ]
  },
  {
   "cell_type": "markdown",
   "id": "84becbbb",
   "metadata": {},
   "source": [
    "#### 4 . Python program to display the given integer in reverse manner"
   ]
  },
  {
   "cell_type": "code",
   "execution_count": 7,
   "id": "84139401",
   "metadata": {},
   "outputs": [
    {
     "name": "stdout",
     "output_type": "stream",
     "text": [
      "1234\n",
      "4321\n"
     ]
    }
   ],
   "source": [
    "a=int(input())\n",
    "i=a\n",
    "rev=0\n",
    "while i >0:\n",
    "    n=i%10\n",
    "    rev=rev*10+n\n",
    "    i=i//10\n",
    "print(rev)"
   ]
  },
  {
   "cell_type": "markdown",
   "id": "62c8c97f",
   "metadata": {},
   "source": [
    "#### 5 . Python program to find the sum of the digits of an integer using while loop"
   ]
  },
  {
   "cell_type": "code",
   "execution_count": 9,
   "id": "d7a9a285",
   "metadata": {},
   "outputs": [
    {
     "name": "stdout",
     "output_type": "stream",
     "text": [
      "1234\n"
     ]
    },
    {
     "data": {
      "text/plain": [
       "10"
      ]
     },
     "execution_count": 9,
     "metadata": {},
     "output_type": "execute_result"
    }
   ],
   "source": [
    "a=int(input())\n",
    "i=a\n",
    "total=0\n",
    "while i>0:\n",
    "    n=i%10\n",
    "    total=total+n\n",
    "    i=i//10\n",
    "total"
   ]
  },
  {
   "cell_type": "markdown",
   "id": "2dd5b45a",
   "metadata": {},
   "source": [
    "#### 6 . Python program to generate the prime numbers from 1 to 100"
   ]
  },
  {
   "cell_type": "code",
   "execution_count": 19,
   "id": "930631ce",
   "metadata": {
    "collapsed": true
   },
   "outputs": [
    {
     "name": "stdout",
     "output_type": "stream",
     "text": [
      "2\n",
      "3\n",
      "5\n",
      "7\n",
      "11\n",
      "13\n",
      "17\n",
      "19\n",
      "23\n",
      "29\n",
      "31\n",
      "37\n",
      "41\n",
      "43\n",
      "47\n",
      "53\n",
      "59\n",
      "61\n",
      "67\n",
      "71\n",
      "73\n",
      "79\n",
      "83\n",
      "89\n",
      "97\n"
     ]
    }
   ],
   "source": [
    "for i in range(2,100):\n",
    "    count=0\n",
    "    for j in range(1,i+1):\n",
    "        if i%j==0:\n",
    "            count+=1\n",
    "            \n",
    "    if count<=2:\n",
    "        print(i)"
   ]
  },
  {
   "cell_type": "markdown",
   "id": "47d98c3d",
   "metadata": {},
   "source": [
    "#### 7 . Python program to find the factorial of a number "
   ]
  },
  {
   "cell_type": "code",
   "execution_count": 1,
   "id": "a612b82e",
   "metadata": {},
   "outputs": [
    {
     "name": "stdout",
     "output_type": "stream",
     "text": [
      "4\n"
     ]
    },
    {
     "data": {
      "text/plain": [
       "24"
      ]
     },
     "execution_count": 1,
     "metadata": {},
     "output_type": "execute_result"
    }
   ],
   "source": [
    "a=int(input())\n",
    "fact=1\n",
    "for i in range(1,a+1):\n",
    "    fact=fact*i\n",
    "    \n",
    "fact"
   ]
  },
  {
   "cell_type": "markdown",
   "id": "7e1b65ee",
   "metadata": {},
   "source": [
    "#### 8 . Python program to check whether a string is palindrome or not"
   ]
  },
  {
   "cell_type": "code",
   "execution_count": 23,
   "id": "baf16d7a",
   "metadata": {},
   "outputs": [
    {
     "name": "stdout",
     "output_type": "stream",
     "text": [
      "abcba\n",
      "palindrome\n"
     ]
    }
   ],
   "source": [
    "a=input()\n",
    "\n",
    "s=''\n",
    "for i in a:\n",
    "    s=i+s\n",
    "if a==s:\n",
    "    print(\"palindrome\")\n",
    "else:\n",
    "    print(\"not Palindrome\")\n"
   ]
  },
  {
   "cell_type": "markdown",
   "id": "938c1cb5",
   "metadata": {},
   "source": [
    "#### 9 . Write a Python function to convert a given string to all uppercase if it contains at least 2 uppercase characters in the first 4 characters"
   ]
  },
  {
   "cell_type": "code",
   "execution_count": 43,
   "id": "f501974b",
   "metadata": {},
   "outputs": [
    {
     "name": "stdout",
     "output_type": "stream",
     "text": [
      "HASeena\n",
      "HASEENA\n"
     ]
    }
   ],
   "source": [
    "a=input()\n",
    "count=0\n",
    "for i in a[:4]:\n",
    "    if ord(i) >=65 and ord(i)<=90:\n",
    "        count+=1\n",
    "if count >=2:\n",
    "    b=a.upper()\n",
    "else:\n",
    "    b=a\n",
    "print()\n",
    "print(b)"
   ]
  },
  {
   "cell_type": "markdown",
   "id": "5407aead",
   "metadata": {},
   "source": [
    "#### 10 . Write a Python program to move spaces to the front of a given string\n",
    "ex:\n",
    "input = sai kamal\n",
    "output = ' saikamal'"
   ]
  },
  {
   "cell_type": "code",
   "execution_count": 8,
   "id": "a07900a2",
   "metadata": {},
   "outputs": [
    {
     "name": "stdout",
     "output_type": "stream",
     "text": [
      "sai kamal\n"
     ]
    },
    {
     "data": {
      "text/plain": [
       "' saikamal'"
      ]
     },
     "execution_count": 8,
     "metadata": {},
     "output_type": "execute_result"
    }
   ],
   "source": [
    "a=input().split()\n",
    "b=' '+''.join(a)                                          # for single space\n",
    "b"
   ]
  },
  {
   "cell_type": "code",
   "execution_count": 16,
   "id": "d9486859",
   "metadata": {},
   "outputs": [
    {
     "name": "stdout",
     "output_type": "stream",
     "text": [
      "s k haseena\n"
     ]
    },
    {
     "data": {
      "text/plain": [
       "'  skhaseena'"
      ]
     },
     "execution_count": 16,
     "metadata": {},
     "output_type": "execute_result"
    }
   ],
   "source": [
    "a=input()\n",
    "b=''.join(a.split())                                              \n",
    "for i in a:\n",
    "    if i==' ':\n",
    "        b=' '+b       \n",
    "b"
   ]
  },
  {
   "cell_type": "markdown",
   "id": "f284ecae",
   "metadata": {},
   "source": [
    "#### 11 .  Write a Python program to count Uppercase, Lowercase, special character and numeric values in a given string."
   ]
  },
  {
   "cell_type": "code",
   "execution_count": 38,
   "id": "72bb6eaf",
   "metadata": {},
   "outputs": [
    {
     "name": "stdout",
     "output_type": "stream",
     "text": [
      "Shaik Haseena @ 4252\n",
      "\n",
      "upper case :  2\n",
      "lower case :  10\n",
      "numeric values :  4\n",
      "special characters :  4\n"
     ]
    }
   ],
   "source": [
    "a=list(input())\n",
    "upper=0\n",
    "lower=0\n",
    "num=0\n",
    "special=0\n",
    "for i in a:\n",
    "    if i.isnumeric():\n",
    "        num+=1\n",
    "    else:\n",
    "        if ord(i) >=65 and ord(i)<=90:\n",
    "            upper+=1\n",
    "        elif ord(i) >=97 and ord(i)<=122:\n",
    "            lower+=1\n",
    "        else:\n",
    "            special+=1\n",
    "print()           \n",
    "print('upper case : ',upper)\n",
    "print('lower case : ',lower)\n",
    "print('numeric values : ',num)\n",
    "print('special characters : ',special)"
   ]
  },
  {
   "cell_type": "code",
   "execution_count": null,
   "id": "820c0d0d",
   "metadata": {},
   "outputs": [],
   "source": []
  }
 ],
 "metadata": {
  "kernelspec": {
   "display_name": "Python 3 (ipykernel)",
   "language": "python",
   "name": "python3"
  },
  "language_info": {
   "codemirror_mode": {
    "name": "ipython",
    "version": 3
   },
   "file_extension": ".py",
   "mimetype": "text/x-python",
   "name": "python",
   "nbconvert_exporter": "python",
   "pygments_lexer": "ipython3",
   "version": "3.10.13"
  }
 },
 "nbformat": 4,
 "nbformat_minor": 5
}
