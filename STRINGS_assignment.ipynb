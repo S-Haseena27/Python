{
 "cells": [
  {
   "cell_type": "markdown",
   "id": "78625dbd",
   "metadata": {},
   "source": [
    "#### 1.Find the length of a given string without using the len() function."
   ]
  },
  {
   "cell_type": "code",
   "execution_count": 71,
   "id": "e587b288",
   "metadata": {},
   "outputs": [
    {
     "name": "stdout",
     "output_type": "stream",
     "text": [
      "adf bhyn\n",
      "8\n"
     ]
    }
   ],
   "source": [
    "a=input()\n",
    "length=0\n",
    "for i in a:\n",
    "    length=length+1\n",
    "print(length)"
   ]
  },
  {
   "cell_type": "markdown",
   "id": "37cb20a3",
   "metadata": {},
   "source": [
    "#### 2.Minimum number of deletions to make a string palindrome\n",
    "#####         Examples : \n",
    "\n",
    "       Input : aebcbda\n",
    "       Output : 2\n",
    "       Remove characters 'e' and 'd'\n",
    "       Resultant string will be 'abcba'\n",
    "       which is a palindromic string\n"
   ]
  },
  {
   "cell_type": "code",
   "execution_count": 70,
   "id": "da3265f3",
   "metadata": {},
   "outputs": [
    {
     "name": "stdout",
     "output_type": "stream",
     "text": [
      "aebcbda\n",
      "no of deletions is :  2\n"
     ]
    }
   ],
   "source": [
    "a=input()\n",
    "b=list(set(a))\n",
    "c=[]\n",
    "count=0\n",
    "for i in b:\n",
    "    c.append(a.count(i))\n",
    "\n",
    "for i in c:\n",
    "    if i%2!=0:\n",
    "        count+=1\n",
    "if count>1:\n",
    "    print(\"no of deletions is : \",(count-1))\n"
   ]
  },
  {
   "cell_type": "markdown",
   "id": "73a5eee1",
   "metadata": {},
   "source": [
    "#### 3.Write a Python program that takes a string as input and prints the first repeated character.\n",
    "\tExample: Input:  \"programming\", Output: \"r\""
   ]
  },
  {
   "cell_type": "code",
   "execution_count": 67,
   "id": "277a8480",
   "metadata": {},
   "outputs": [
    {
     "name": "stdout",
     "output_type": "stream",
     "text": [
      "programming\n",
      "r\n"
     ]
    }
   ],
   "source": [
    "a=input()\n",
    "b=list(a)\n",
    "d=[]\n",
    "for i in a:\n",
    "    d.append(a.count(i))\n",
    "\n",
    "print(b[d.index(max(d))])\n"
   ]
  },
  {
   "cell_type": "markdown",
   "id": "2d28bde8",
   "metadata": {},
   "source": [
    "#### 4.How do you find the length of the longest substring without repeating characters?\n",
    "\tExample: Input: \"abcabcbb”, Output: \"abc\"\n"
   ]
  },
  {
   "cell_type": "code",
   "execution_count": 66,
   "id": "236f922d",
   "metadata": {},
   "outputs": [
    {
     "name": "stdout",
     "output_type": "stream",
     "text": [
      "abcabcbb\n",
      "abc  : 3\n"
     ]
    }
   ],
   "source": [
    "a=input()\n",
    "b=set(a)\n",
    "c=''\n",
    "length=0\n",
    "for i in b:\n",
    "    length=length+1\n",
    "    c=c+i\n",
    "print(c,\" :\", length)\n"
   ]
  },
  {
   "cell_type": "markdown",
   "id": "e62024a9",
   "metadata": {},
   "source": [
    "#### 5.Write a Python program to find and replace all occurrences of a specified substring within a string.\n",
    "\tExample: Input: \"I like cats, but I prefer dogs.\", Replace: \"cats\" with \"bunnies\", Output: \"I like bunnies, but I prefer dogs.\"\n"
   ]
  },
  {
   "cell_type": "code",
   "execution_count": 37,
   "id": "f5dd5e55",
   "metadata": {},
   "outputs": [
    {
     "name": "stdout",
     "output_type": "stream",
     "text": [
      "I like cats, but I prefer dogs.\n",
      "I like bunnies, but I prefer dogs.\n"
     ]
    }
   ],
   "source": [
    "a=input()\n",
    "\n",
    "print(f\"I like {a}, but I prefer dogs.\")\n",
    "\n",
    "a=input()\n",
    "\n",
    "print(f\"I like {a}, but I prefer dogs.\")"
   ]
  },
  {
   "cell_type": "markdown",
   "id": "9cbe6d42",
   "metadata": {},
   "source": [
    "#### 6. Create a Python program to generate all possible permutations of a string (including duplicates).\n",
    "\tExample: Input: \"abc\", Output: [\"abc\", \"acb\", \"bac\", \"bca\", \"cab\", \"cba\"]\n"
   ]
  },
  {
   "cell_type": "code",
   "execution_count": null,
   "id": "2be0ae31",
   "metadata": {},
   "outputs": [],
   "source": [
    "a='abc'\n",
    "# nPr=n!/(n-r)!\n",
    "\n",
    "n=r=len(a)\n",
    "for i in range(1,len(a)+1):\n",
    "    n_fact=i*n_fact\n",
    "    \n",
    "    \n",
    "    \n",
    "    \n",
    "\n",
    "    \n",
    "    "
   ]
  },
  {
   "cell_type": "markdown",
   "id": "352b29d9",
   "metadata": {},
   "source": [
    "#### 7.Write a program that finds the most common character in a string (ignoring spaces and considering both uppercase and lowercase).\n",
    "\tExample: Input: \"Hello World\", Output: \"l\"\n"
   ]
  },
  {
   "cell_type": "code",
   "execution_count": 65,
   "id": "acfe091a",
   "metadata": {},
   "outputs": [
    {
     "name": "stdout",
     "output_type": "stream",
     "text": [
      "Hello World\n",
      "l\n"
     ]
    }
   ],
   "source": [
    "a=input()\n",
    "b=list(set(a))\n",
    "\n",
    "d=[]\n",
    "for i in b:\n",
    "    d.append(a.count(i))\n",
    "print(b[d.index(max(d))])\n",
    "\n",
    "\n"
   ]
  },
  {
   "cell_type": "markdown",
   "id": "2ed34c77",
   "metadata": {},
   "source": [
    "#### 8.Implement a function that compresses a string by replacing consecutive repeating characters with the character followed by the count. If the compressed string is not shorter, return the original string.\n",
    "Example: Input: \"aaabbbbbcccc\", Output: \"a3b5c4\"\n"
   ]
  },
  {
   "cell_type": "code",
   "execution_count": 64,
   "id": "598db303",
   "metadata": {},
   "outputs": [
    {
     "name": "stdout",
     "output_type": "stream",
     "text": [
      "aaabbbbbcccc\n",
      "a3b5c4"
     ]
    }
   ],
   "source": [
    "a=input()\n",
    "b=list(set(a))\n",
    "\n",
    "c=[]\n",
    "for i in b:\n",
    "    count=0\n",
    "    for j in a:\n",
    "        if i==j:\n",
    "            count=count+1\n",
    "    c.append(count)   \n",
    "for i in range(len(b)):\n",
    "    print(b[i]+str(c[i]),end='')"
   ]
  },
  {
   "cell_type": "markdown",
   "id": "93cc1919",
   "metadata": {},
   "source": [
    "#### 9.Write a Python program that takes a string as input and prints the letters in decreasing frequency order.\n",
    "\tExample: Input: \"programming\", Output: \"gmrnpiao\"\n"
   ]
  },
  {
   "cell_type": "code",
   "execution_count": null,
   "id": "f7df4e6c",
   "metadata": {},
   "outputs": [],
   "source": [
    "a=input()\n",
    "b=list(set(a))\n",
    "c=[]\n",
    "for i in b:\n",
    "    c.append(a.count(i))\n",
    "b[c.index(max(c))]\n",
    "    \n",
    "    \n",
    "    "
   ]
  },
  {
   "cell_type": "markdown",
   "id": "05798baa",
   "metadata": {},
   "source": [
    "#### 10.Write a Python program that takes a string as input and prints the most frequent character that is not a digit.\n",
    "\tExample: Input: \"a112b333ccc\", Output: \"c\"\n"
   ]
  },
  {
   "cell_type": "code",
   "execution_count": 62,
   "id": "d5d143c8",
   "metadata": {},
   "outputs": [
    {
     "name": "stdout",
     "output_type": "stream",
     "text": [
      "a112b333ccc\n",
      "c\n"
     ]
    }
   ],
   "source": [
    "a=input()\n",
    "b=[]\n",
    "for i in a:\n",
    "    if i.isalpha() :\n",
    "        b.append(i)\n",
    "\n",
    "c=set(b)\n",
    "d=[]\n",
    "for i in c:\n",
    "    d.append(a.count(i))\n",
    "c=list(c)\n",
    "print(c[d.index(max(d))])\n",
    "    \n"
   ]
  },
  {
   "cell_type": "code",
   "execution_count": null,
   "id": "96cbc147",
   "metadata": {},
   "outputs": [],
   "source": []
  }
 ],
 "metadata": {
  "kernelspec": {
   "display_name": "Python 3 (ipykernel)",
   "language": "python",
   "name": "python3"
  },
  "language_info": {
   "codemirror_mode": {
    "name": "ipython",
    "version": 3
   },
   "file_extension": ".py",
   "mimetype": "text/x-python",
   "name": "python",
   "nbconvert_exporter": "python",
   "pygments_lexer": "ipython3",
   "version": "3.10.9"
  }
 },
 "nbformat": 4,
 "nbformat_minor": 5
}
