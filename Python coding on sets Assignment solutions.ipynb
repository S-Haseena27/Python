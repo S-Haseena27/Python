{
 "cells": [
  {
   "cell_type": "markdown",
   "id": "12aecab0",
   "metadata": {},
   "source": [
    "#### Question 1: Write a Python program to create an empty set."
   ]
  },
  {
   "cell_type": "code",
   "execution_count": 1,
   "id": "12e12c16",
   "metadata": {},
   "outputs": [
    {
     "name": "stdout",
     "output_type": "stream",
     "text": [
      "<class 'set'>\n"
     ]
    }
   ],
   "source": [
    "a=set()\n",
    "\n",
    "print(type(a))"
   ]
  },
  {
   "cell_type": "markdown",
   "id": "7ac4fb57",
   "metadata": {},
   "source": [
    "#### Question 2: Write a Python program to check if two sets are equal."
   ]
  },
  {
   "cell_type": "code",
   "execution_count": 20,
   "id": "2beb5404",
   "metadata": {},
   "outputs": [
    {
     "name": "stdout",
     "output_type": "stream",
     "text": [
      "equal\n"
     ]
    }
   ],
   "source": [
    "a={1,2,4.5,'as'}\n",
    "b={1,2,4.5,'as'}\n",
    "if a==b:\n",
    "    print('equal')\n",
    "else:\n",
    "    print('not equal')\n"
   ]
  },
  {
   "cell_type": "markdown",
   "id": "01b11c87",
   "metadata": {},
   "source": [
    "#### Question 3: Write a Python program to add an element to a set."
   ]
  },
  {
   "cell_type": "code",
   "execution_count": 4,
   "id": "b87e05ea",
   "metadata": {},
   "outputs": [
    {
     "name": "stdout",
     "output_type": "stream",
     "text": [
      "<class 'set'>\n",
      "{1, 2, 4.5, 4, 'as'}\n"
     ]
    }
   ],
   "source": [
    "a={1,2,4.5,'as'}\n",
    "\n",
    "print(type(a))\n",
    "\n",
    "a.add(4)\n",
    "\n",
    "print(a)"
   ]
  },
  {
   "cell_type": "markdown",
   "id": "cbb5fe67",
   "metadata": {},
   "source": [
    "#### Question 4: Write a Python program to remove an element from a set."
   ]
  },
  {
   "cell_type": "code",
   "execution_count": 5,
   "id": "ec6405f6",
   "metadata": {},
   "outputs": [
    {
     "name": "stdout",
     "output_type": "stream",
     "text": [
      "{1, 2, 4.5, 'as'}\n"
     ]
    }
   ],
   "source": [
    "a={1,2,4.5,'as'}\n",
    "\n",
    "a.discard(4)\n",
    "\n",
    "print(a)"
   ]
  },
  {
   "cell_type": "code",
   "execution_count": 7,
   "id": "967a66fe",
   "metadata": {},
   "outputs": [
    {
     "name": "stdout",
     "output_type": "stream",
     "text": [
      "{1, 2, 4.5, 'as'}\n"
     ]
    }
   ],
   "source": [
    "a={1,2,4,4.5,'as'}\n",
    "\n",
    "a.remove(4)\n",
    "\n",
    "print(a)"
   ]
  },
  {
   "cell_type": "code",
   "execution_count": 10,
   "id": "b52ffc66",
   "metadata": {},
   "outputs": [
    {
     "name": "stdout",
     "output_type": "stream",
     "text": [
      "{2, 4, 4.5, 'as'}\n"
     ]
    }
   ],
   "source": [
    "a={1,2,4,4.5,'as'}\n",
    "\n",
    "a.pop()\n",
    "\n",
    "print(a)"
   ]
  },
  {
   "cell_type": "markdown",
   "id": "d325fb9f",
   "metadata": {},
   "source": [
    "#### Question 5: Write a Python program to find the union of two sets."
   ]
  },
  {
   "cell_type": "code",
   "execution_count": 11,
   "id": "79ba11d5",
   "metadata": {},
   "outputs": [
    {
     "data": {
      "text/plain": [
       "{1, 10, 2, 2.3, 3, 4.5, 'ai', 'as', 'python'}"
      ]
     },
     "execution_count": 11,
     "metadata": {},
     "output_type": "execute_result"
    }
   ],
   "source": [
    "a={1,2,3,4.5,'as'}\n",
    "\n",
    "b={10, 2.3, 3, 'ai', 'python'}\n",
    "\n",
    "a.union(b)"
   ]
  },
  {
   "cell_type": "markdown",
   "id": "ea0782e9",
   "metadata": {},
   "source": [
    "#### Question 6: Write a Python program to find the intersection of two sets."
   ]
  },
  {
   "cell_type": "code",
   "execution_count": 12,
   "id": "e2e9ac41",
   "metadata": {},
   "outputs": [
    {
     "data": {
      "text/plain": [
       "{3}"
      ]
     },
     "execution_count": 12,
     "metadata": {},
     "output_type": "execute_result"
    }
   ],
   "source": [
    "a={1,2,3,4.5,'as'}\n",
    "\n",
    "b={10, 2.3, 3, 'ai', 'python'}\n",
    "\n",
    "a.intersection(b)"
   ]
  },
  {
   "cell_type": "markdown",
   "id": "74b0c45c",
   "metadata": {},
   "source": [
    "#### Question 7: Write a Python program to find the difference between two sets."
   ]
  },
  {
   "cell_type": "code",
   "execution_count": 13,
   "id": "04038796",
   "metadata": {},
   "outputs": [
    {
     "data": {
      "text/plain": [
       "{1, 2, 4.5, 'as'}"
      ]
     },
     "execution_count": 13,
     "metadata": {},
     "output_type": "execute_result"
    }
   ],
   "source": [
    "a={1,2,3,4.5,'as'}\n",
    "\n",
    "b={10, 2.3, 3, 'ai', 'python'}\n",
    "\n",
    "a.difference(b)"
   ]
  },
  {
   "cell_type": "markdown",
   "id": "b89d21ad",
   "metadata": {},
   "source": [
    "#### Question 8: Write a Python program to check if a set is a subset of another set."
   ]
  },
  {
   "cell_type": "code",
   "execution_count": 14,
   "id": "4db2b3cb",
   "metadata": {},
   "outputs": [
    {
     "data": {
      "text/plain": [
       "False"
      ]
     },
     "execution_count": 14,
     "metadata": {},
     "output_type": "execute_result"
    }
   ],
   "source": [
    "a={1,2,3,4.5,'as'}\n",
    "\n",
    "b={10, 2.3, 3, 'ai', 'python'}\n",
    "\n",
    "a.issubset(b)"
   ]
  },
  {
   "cell_type": "markdown",
   "id": "54c4e838",
   "metadata": {},
   "source": [
    "#### Question 9: Write a Python program to remove all duplicate elements from a set."
   ]
  },
  {
   "cell_type": "code",
   "execution_count": 15,
   "id": "d1862503",
   "metadata": {},
   "outputs": [],
   "source": [
    "b={10, 2.3, 3, 'ai', 'python',3}"
   ]
  },
  {
   "cell_type": "code",
   "execution_count": 16,
   "id": "4e7702df",
   "metadata": {},
   "outputs": [
    {
     "name": "stdout",
     "output_type": "stream",
     "text": [
      "{2.3, 3, 'python', 'ai', 10}\n"
     ]
    }
   ],
   "source": [
    "print(b)"
   ]
  },
  {
   "cell_type": "markdown",
   "id": "df1c3c4e",
   "metadata": {},
   "source": [
    "#### Question 10: Write a Python program to find the maximum and minimum elements in a set."
   ]
  },
  {
   "cell_type": "code",
   "execution_count": 18,
   "id": "47fc89d0",
   "metadata": {},
   "outputs": [
    {
     "name": "stdout",
     "output_type": "stream",
     "text": [
      "10\n",
      "2.3\n"
     ]
    }
   ],
   "source": [
    "b={10, 2.3, 3, 3}\n",
    "\n",
    "a=[]\n",
    "for i in b:\n",
    "    a.append(i)\n",
    "print(max(a))\n",
    "print(min(a))"
   ]
  },
  {
   "cell_type": "code",
   "execution_count": null,
   "id": "64e487ea",
   "metadata": {},
   "outputs": [],
   "source": []
  }
 ],
 "metadata": {
  "kernelspec": {
   "display_name": "Python 3 (ipykernel)",
   "language": "python",
   "name": "python3"
  },
  "language_info": {
   "codemirror_mode": {
    "name": "ipython",
    "version": 3
   },
   "file_extension": ".py",
   "mimetype": "text/x-python",
   "name": "python",
   "nbconvert_exporter": "python",
   "pygments_lexer": "ipython3",
   "version": "3.10.9"
  }
 },
 "nbformat": 4,
 "nbformat_minor": 5
}
