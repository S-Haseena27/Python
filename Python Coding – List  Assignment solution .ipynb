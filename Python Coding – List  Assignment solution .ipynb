{
 "cells": [
  {
   "cell_type": "markdown",
   "id": "8d6000c4",
   "metadata": {},
   "source": [
    "#### Question 1: Write a Python program to count the number of elements in a list."
   ]
  },
  {
   "cell_type": "code",
   "execution_count": 1,
   "id": "7d14f50b",
   "metadata": {},
   "outputs": [
    {
     "name": "stdout",
     "output_type": "stream",
     "text": [
      "as 2 3 g h5\n",
      "<class 'list'>\n"
     ]
    },
    {
     "data": {
      "text/plain": [
       "5"
      ]
     },
     "execution_count": 1,
     "metadata": {},
     "output_type": "execute_result"
    }
   ],
   "source": [
    "a=input().split()\n",
    "print(type(a))\n",
    "\n",
    "len(a)"
   ]
  },
  {
   "cell_type": "markdown",
   "id": "f8900344",
   "metadata": {},
   "source": [
    "#### Question 2: Write a Python program to find the maximum and minimum values in a given list."
   ]
  },
  {
   "cell_type": "code",
   "execution_count": 2,
   "id": "a7dc5b14",
   "metadata": {},
   "outputs": [
    {
     "name": "stdout",
     "output_type": "stream",
     "text": [
      "4 9 0 2 1 6 \n",
      "9\n",
      "0\n"
     ]
    }
   ],
   "source": [
    "a=input().split()\n",
    "\n",
    "print(max(a))\n",
    "print(min(a))"
   ]
  },
  {
   "cell_type": "markdown",
   "id": "18e4eec4",
   "metadata": {},
   "source": [
    "#### Question 3: Write a Python program to remove the first occurrence of a specified element from a list."
   ]
  },
  {
   "cell_type": "code",
   "execution_count": 6,
   "id": "5c1e7abb",
   "metadata": {},
   "outputs": [
    {
     "name": "stdout",
     "output_type": "stream",
     "text": [
      "2 3 fg 6 7 2\n"
     ]
    },
    {
     "data": {
      "text/plain": [
       "['3', 'fg', '6', '7', '2']"
      ]
     },
     "execution_count": 6,
     "metadata": {},
     "output_type": "execute_result"
    }
   ],
   "source": [
    "a=input().split()            # here we taking input as str\n",
    "\n",
    "a.remove('2')               \n",
    "a"
   ]
  },
  {
   "cell_type": "markdown",
   "id": "7d203e0c",
   "metadata": {},
   "source": [
    "#### Question 4: Write a Python program to find the average of all the elements in a list."
   ]
  },
  {
   "cell_type": "code",
   "execution_count": 8,
   "id": "e6813ae1",
   "metadata": {},
   "outputs": [
    {
     "name": "stdout",
     "output_type": "stream",
     "text": [
      "11 2 3 4 5\n",
      "5.0\n"
     ]
    }
   ],
   "source": [
    "a=list(map(int,input().split()))\n",
    "\n",
    "avg=sum(a)/len(a)\n",
    "\n",
    "print(avg)"
   ]
  },
  {
   "cell_type": "markdown",
   "id": "41b1a0d7",
   "metadata": {},
   "source": [
    "#### Question 5: Write a Python program to check if a list is empty or not."
   ]
  },
  {
   "cell_type": "code",
   "execution_count": 12,
   "id": "581a65b8",
   "metadata": {},
   "outputs": [
    {
     "name": "stdout",
     "output_type": "stream",
     "text": [
      "11 2 3 4 5\n",
      "not empty\n"
     ]
    }
   ],
   "source": [
    "a=list(map(int,input().split()))\n",
    "count=0\n",
    "for i in a:\n",
    "    count+=1\n",
    "\n",
    "if count==0:\n",
    "    print('empty list')\n",
    "else:\n",
    "    print('not empty')"
   ]
  },
  {
   "cell_type": "markdown",
   "id": "b28b112e",
   "metadata": {},
   "source": [
    "#### Question 6: Write a Python program to find the index of a specified element in a list."
   ]
  },
  {
   "cell_type": "code",
   "execution_count": 14,
   "id": "ac64933a",
   "metadata": {},
   "outputs": [
    {
     "name": "stdout",
     "output_type": "stream",
     "text": [
      "2 gh 3 h 8 9 7\n"
     ]
    },
    {
     "data": {
      "text/plain": [
       "6"
      ]
     },
     "execution_count": 14,
     "metadata": {},
     "output_type": "execute_result"
    }
   ],
   "source": [
    "a=input().split()\n",
    "\n",
    "a.index('7')"
   ]
  },
  {
   "cell_type": "markdown",
   "id": "7f15d35c",
   "metadata": {},
   "source": [
    "#### Question 7: Write a Python program to concatenate two lists."
   ]
  },
  {
   "cell_type": "code",
   "execution_count": 15,
   "id": "edf5b37b",
   "metadata": {},
   "outputs": [
    {
     "name": "stdout",
     "output_type": "stream",
     "text": [
      "gh s k \n",
      "1 2 5 6\n",
      "['gh', 's', 'k', 1, 2, 5, 6]\n"
     ]
    }
   ],
   "source": [
    "a=input().split()                         # input is str\n",
    "\n",
    "b=list(map(int,input().split()))          # input is int\n",
    "\n",
    "c=a+b\n",
    "print(c)"
   ]
  },
  {
   "cell_type": "markdown",
   "id": "9f4eb80f",
   "metadata": {},
   "source": [
    "#### Question 8: Write a Python program to find the common elements between two lists."
   ]
  },
  {
   "cell_type": "code",
   "execution_count": 16,
   "id": "e9d43095",
   "metadata": {},
   "outputs": [
    {
     "name": "stdout",
     "output_type": "stream",
     "text": [
      "1 2 gj 7 s h\n",
      "gj 7 f a p\n"
     ]
    },
    {
     "data": {
      "text/plain": [
       "{'7', 'gj'}"
      ]
     },
     "execution_count": 16,
     "metadata": {},
     "output_type": "execute_result"
    }
   ],
   "source": [
    "a=input().split()                         # input is str\n",
    "\n",
    "b=input().split()\n",
    "\n",
    "\n",
    "c=set(a)\n",
    "d=set(b)\n",
    "c.intersection(d)"
   ]
  },
  {
   "cell_type": "markdown",
   "id": "731968c7",
   "metadata": {},
   "source": [
    "#### Question 9: Write a Python program to remove the duplicates from a list while preserving the order of elements."
   ]
  },
  {
   "cell_type": "code",
   "execution_count": 18,
   "id": "da7543fa",
   "metadata": {
    "scrolled": true
   },
   "outputs": [
    {
     "name": "stdout",
     "output_type": "stream",
     "text": [
      "1 3 4 8 9 3 8 9 2\n",
      "{1, 2, 3, 4, 8, 9}\n"
     ]
    }
   ],
   "source": [
    "a=list(map(int,input().split()))                   # i have doubt on this question\n",
    "\n",
    "b=set(a)\n",
    "print(b)\n"
   ]
  },
  {
   "cell_type": "markdown",
   "id": "debf12a2",
   "metadata": {},
   "source": [
    "#### Question 10: Write a Python program to sort a list of strings in alphabetical order."
   ]
  },
  {
   "cell_type": "code",
   "execution_count": 17,
   "id": "63dab233",
   "metadata": {},
   "outputs": [
    {
     "name": "stdout",
     "output_type": "stream",
     "text": [
      "ab dfg abc ghj okh rhjy\n",
      "['ab', 'abc', 'dfg', 'ghj', 'okh', 'rhjy']\n"
     ]
    }
   ],
   "source": [
    "a=input().split()\n",
    "\n",
    "a.sort()\n",
    "print(a)"
   ]
  },
  {
   "cell_type": "code",
   "execution_count": null,
   "id": "37b0ed34",
   "metadata": {},
   "outputs": [],
   "source": []
  }
 ],
 "metadata": {
  "kernelspec": {
   "display_name": "Python 3 (ipykernel)",
   "language": "python",
   "name": "python3"
  },
  "language_info": {
   "codemirror_mode": {
    "name": "ipython",
    "version": 3
   },
   "file_extension": ".py",
   "mimetype": "text/x-python",
   "name": "python",
   "nbconvert_exporter": "python",
   "pygments_lexer": "ipython3",
   "version": "3.10.9"
  }
 },
 "nbformat": 4,
 "nbformat_minor": 5
}
