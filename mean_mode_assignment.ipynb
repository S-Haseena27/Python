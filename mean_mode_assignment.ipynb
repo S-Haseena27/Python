{
 "cells": [
  {
   "cell_type": "markdown",
   "id": "1477b24c",
   "metadata": {},
   "source": [
    "a=[4,7,11,13,17,8]  \n",
    "Write pure python logic to find the median for even and odd"
   ]
  },
  {
   "cell_type": "code",
   "execution_count": 10,
   "id": "3477262d",
   "metadata": {},
   "outputs": [
    {
     "name": "stdout",
     "output_type": "stream",
     "text": [
      "4 7 11 13 17 8 9\n",
      "9\n"
     ]
    }
   ],
   "source": [
    "a=list(map(int,input().split()))\n",
    "a=sorted(a)\n",
    "\n",
    "if len(a)%2==0:\n",
    "    b=len(a)//2\n",
    "    s=a[b]+a[b-1]\n",
    "    median=s/2\n",
    "else:\n",
    "    b=(len(a)+1)//2\n",
    "    median=a[b-1]\n",
    "    \n",
    "print(median)"
   ]
  },
  {
   "cell_type": "markdown",
   "id": "a24b2cfc",
   "metadata": {},
   "source": [
    "##### mode"
   ]
  },
  {
   "cell_type": "code",
   "execution_count": 13,
   "id": "75f5b00f",
   "metadata": {},
   "outputs": [
    {
     "name": "stdout",
     "output_type": "stream",
     "text": [
      "4\n"
     ]
    }
   ],
   "source": [
    "a=[4,7,11,13,17,8,9,4]\n",
    "b=list(set(a))\n",
    "c=[]\n",
    "for i in b:\n",
    "    c.append(a.count(i))\n",
    "d=c.index(max(c))\n",
    "mode=b[d]\n",
    "print(mode) "
   ]
  },
  {
   "cell_type": "code",
   "execution_count": null,
   "id": "385d138b",
   "metadata": {},
   "outputs": [],
   "source": []
  }
 ],
 "metadata": {
  "kernelspec": {
   "display_name": "Python 3 (ipykernel)",
   "language": "python",
   "name": "python3"
  },
  "language_info": {
   "codemirror_mode": {
    "name": "ipython",
    "version": 3
   },
   "file_extension": ".py",
   "mimetype": "text/x-python",
   "name": "python",
   "nbconvert_exporter": "python",
   "pygments_lexer": "ipython3",
   "version": "3.10.13"
  }
 },
 "nbformat": 4,
 "nbformat_minor": 5
}
