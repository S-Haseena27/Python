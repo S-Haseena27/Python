{
 "cells": [
  {
   "cell_type": "markdown",
   "id": "611f0d58",
   "metadata": {},
   "source": [
    "#### 1. Question: Create an empty tuple named `my_tuple`."
   ]
  },
  {
   "cell_type": "code",
   "execution_count": 1,
   "id": "fc5b55dd",
   "metadata": {},
   "outputs": [
    {
     "data": {
      "text/plain": [
       "tuple"
      ]
     },
     "execution_count": 1,
     "metadata": {},
     "output_type": "execute_result"
    }
   ],
   "source": [
    "my_tuple=()\n",
    "type(my_tuple)"
   ]
  },
  {
   "cell_type": "markdown",
   "id": "a328a221",
   "metadata": {},
   "source": [
    "#### 2. Question: Given a tuple `numbers = (1, 2, 3, 4, 5)`, how would you access the third element (the number 3) in the tuple?"
   ]
  },
  {
   "cell_type": "code",
   "execution_count": 2,
   "id": "fd7b95b9",
   "metadata": {},
   "outputs": [
    {
     "data": {
      "text/plain": [
       "3"
      ]
     },
     "execution_count": 2,
     "metadata": {},
     "output_type": "execute_result"
    }
   ],
   "source": [
    "numbers=(1, 2, 3, 4, 5)\n",
    "numbers[2]"
   ]
  },
  {
   "cell_type": "markdown",
   "id": "7c7d50c2",
   "metadata": {},
   "source": [
    "#### 3. Question: Write a Python program that takes a tuple of numbers and returns a new tuple with the numbers squared.\n",
    "\n",
    "   Example:\n",
    "   Input: `(2, 3, 4, 5)`\n",
    "   Output: `(4, 9, 16, 25)`\n"
   ]
  },
  {
   "cell_type": "code",
   "execution_count": 3,
   "id": "740d0c3c",
   "metadata": {},
   "outputs": [
    {
     "name": "stdout",
     "output_type": "stream",
     "text": [
      "2 3 4 5\n",
      "(4, 9, 16, 25)\n"
     ]
    }
   ],
   "source": [
    "a=tuple(map(int,input().split()))\n",
    "\n",
    "result=[]\n",
    "for i in a:\n",
    "    result.append(i*i)\n",
    "    \n",
    "print(tuple(result))\n",
    "    "
   ]
  },
  {
   "cell_type": "markdown",
   "id": "affb4f58",
   "metadata": {},
   "source": [
    "#### 4. Question: Write a Python program to find the maximum and minimum values in a tuple of numbers.\n",
    "\n",
    "   Example:\n",
    "   Input: `(10, 5, 30, 8, 20)`\n",
    "   Output: `Maximum: 30, Minimum: 5`\n"
   ]
  },
  {
   "cell_type": "code",
   "execution_count": 6,
   "id": "641dd766",
   "metadata": {},
   "outputs": [
    {
     "name": "stdout",
     "output_type": "stream",
     "text": [
      "10 5 30 8 20\n",
      "Maximum: 30,Minimum: 5\n"
     ]
    }
   ],
   "source": [
    "a=tuple(map(int,input().split()))\n",
    "Maximum=max(a)\n",
    "Minimum=min(a)\n",
    "\n",
    "print(f\"Maximum: {Maximum},Minimum: {Minimum}\")"
   ]
  },
  {
   "cell_type": "markdown",
   "id": "6fc1afc4",
   "metadata": {},
   "source": [
    "#### 5. Question:Write a Python function that takes a list of tuples, where each tuple contains a student's name and their score. The function should return a new list of tuples, sorted by the students' scores in descending order.\n",
    "\n",
    "   Example:\n",
    "   Input: `[(\"Alice\", 85), (\"Bob\", 92), (\"Charlie\", 78), (\"David\", 95)]`\n",
    "   Output: `[(\"David\", 95), (\"Bob\", 92), (\"Alice\", 85), (\"Charlie\", 78)]`\n"
   ]
  },
  {
   "cell_type": "code",
   "execution_count": 18,
   "id": "b029248d",
   "metadata": {},
   "outputs": [
    {
     "data": {
      "text/plain": [
       "[('David', 95), ('Bob', 92), ('Alice', 85), ('Charlie', 78)]"
      ]
     },
     "execution_count": 18,
     "metadata": {},
     "output_type": "execute_result"
    }
   ],
   "source": [
    "a=[(\"Alice\", 85), (\"Bob\", 92), (\"Charlie\", 78), (\"David\", 95)]\n",
    "\n",
    "sorted_list = sorted(a, key=lambda x: x[1],reverse=True)\n",
    "\n",
    "sorted_list"
   ]
  },
  {
   "cell_type": "code",
   "execution_count": null,
   "id": "f7a92552",
   "metadata": {},
   "outputs": [],
   "source": []
  }
 ],
 "metadata": {
  "kernelspec": {
   "display_name": "Python 3 (ipykernel)",
   "language": "python",
   "name": "python3"
  },
  "language_info": {
   "codemirror_mode": {
    "name": "ipython",
    "version": 3
   },
   "file_extension": ".py",
   "mimetype": "text/x-python",
   "name": "python",
   "nbconvert_exporter": "python",
   "pygments_lexer": "ipython3",
   "version": "3.10.9"
  }
 },
 "nbformat": 4,
 "nbformat_minor": 5
}
