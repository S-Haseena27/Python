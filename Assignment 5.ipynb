{
 "cells": [
  {
   "cell_type": "markdown",
   "id": "71ea0ecd",
   "metadata": {},
   "source": [
    "q1. giving numbers should converting into characters"
   ]
  },
  {
   "cell_type": "code",
   "execution_count": 5,
   "id": "3c78fa43",
   "metadata": {},
   "outputs": [
    {
     "name": "stdout",
     "output_type": "stream",
     "text": [
      "76 56 98 45\n",
      "['L', '8', 'b', '-']\n"
     ]
    }
   ],
   "source": [
    "a=list(map(int,input().split()))\n",
    "b=[]\n",
    "for i in a:\n",
    "    b.append(chr(i))\n",
    "print(b)"
   ]
  },
  {
   "cell_type": "code",
   "execution_count": 11,
   "id": "e5c7c178",
   "metadata": {},
   "outputs": [
    {
     "name": "stdout",
     "output_type": "stream",
     "text": [
      "1 2 3 4\n",
      "<class 'str'>\n"
     ]
    }
   ],
   "source": [
    "a=list(map(int,input().split()))\n",
    "b=str(a)\n",
    "print(type(b[0]))"
   ]
  },
  {
   "cell_type": "markdown",
   "id": "36c1b526",
   "metadata": {},
   "source": [
    "q2. a = [1,2,3,4,5]  values %2 should return pass and remaining should return fail "
   ]
  },
  {
   "cell_type": "code",
   "execution_count": 21,
   "id": "f2db1ab4",
   "metadata": {},
   "outputs": [
    {
     "name": "stdout",
     "output_type": "stream",
     "text": [
      "1 2 3 4 5\n",
      "1 : fail\n",
      "2 : pass\n",
      "3 : fail\n",
      "4 : pass\n",
      "5 : fail\n"
     ]
    }
   ],
   "source": [
    "a = list(map(int,input().split()))\n",
    "for i in a:\n",
    "    if i%2==0:\n",
    "        print(i,\": pass\")\n",
    "    else:\n",
    "        print(i,\": fail\")"
   ]
  },
  {
   "cell_type": "markdown",
   "id": "e2c245ed",
   "metadata": {},
   "source": [
    "q3. generate 1024 values into a list and find first 3 , last 3 and middle 3 values \n"
   ]
  },
  {
   "cell_type": "code",
   "execution_count": 1,
   "id": "58d005bb",
   "metadata": {},
   "outputs": [],
   "source": [
    "import numpy as np"
   ]
  },
  {
   "cell_type": "code",
   "execution_count": 17,
   "id": "b8b722da",
   "metadata": {},
   "outputs": [
    {
     "name": "stdout",
     "output_type": "stream",
     "text": [
      "first 3 values are :  [0 1 2]\n",
      "last 3 values are :  1023 1022 1021\n",
      "middle 3 values are :  511 512 513\n"
     ]
    }
   ],
   "source": [
    "a=np.arange(0,1024)\n",
    "b=len(a)//2\n",
    "print(\"first 3 values are : \",a[0:3])\n",
    "print(\"last 3 values are : \",a[-1],a[-2],a[-3])\n",
    "print(\"middle 3 values are : \",a[b-1],a[b],a[b+1])"
   ]
  },
  {
   "cell_type": "code",
   "execution_count": 10,
   "id": "41864596",
   "metadata": {},
   "outputs": [
    {
     "data": {
      "text/plain": [
       "1023"
      ]
     },
     "execution_count": 10,
     "metadata": {},
     "output_type": "execute_result"
    }
   ],
   "source": [
    "a[-1]"
   ]
  },
  {
   "cell_type": "markdown",
   "id": "2138db3c",
   "metadata": {},
   "source": [
    "q4. L =  [ [ 12, 34, 25], [1, 45, 0] ]\n",
    "     # find only the odd values from above list \n",
    "    Out = [25, 1, 45]\n"
   ]
  },
  {
   "cell_type": "code",
   "execution_count": 1,
   "id": "47a99f29",
   "metadata": {},
   "outputs": [
    {
     "data": {
      "text/plain": [
       "[25, 1, 45]"
      ]
     },
     "execution_count": 1,
     "metadata": {},
     "output_type": "execute_result"
    }
   ],
   "source": [
    "L = [ [ 12, 34, 25], [1, 45, 0] ] \n",
    "out=[]\n",
    "for i in L:\n",
    "    for j in i:\n",
    "        if j%2!=0:\n",
    "            out.append(j)\n",
    "out"
   ]
  },
  {
   "cell_type": "markdown",
   "id": "b9ec1038",
   "metadata": {},
   "source": [
    "q5. reverse string \n",
    "input:\n",
    "        names = ['Paul', 'Jane', 'Sandra', 'Gemma', 'Hannah', 'Anne']\n",
    "output: \n",
    "        ['Anne', 'Hannah', 'Gemma', 'Sandra', 'Jane', 'Paul']"
   ]
  },
  {
   "cell_type": "code",
   "execution_count": 17,
   "id": "4c8d2947",
   "metadata": {},
   "outputs": [
    {
     "name": "stdout",
     "output_type": "stream",
     "text": [
      "['Anne', 'Hannah', 'Gemma', 'Sandra', 'Jane', 'Paul']\n"
     ]
    }
   ],
   "source": [
    "names = ['Paul', 'Jane', 'Sandra', 'Gemma', 'Hannah', 'Anne']\n",
    "print(names[::-1])"
   ]
  },
  {
   "cell_type": "code",
   "execution_count": 21,
   "id": "88a33351",
   "metadata": {},
   "outputs": [
    {
     "name": "stdout",
     "output_type": "stream",
     "text": [
      "['Anne', 'Hannah', 'Gemma', 'Sandra', 'Jane', 'Paul']\n"
     ]
    }
   ],
   "source": [
    "names = ['Paul', 'Jane', 'Sandra', 'Gemma', 'Hannah', 'Anne']\n",
    "output=[]\n",
    "for i in range(len(names),0,-1):\n",
    "    output.append(names[i-1])\n",
    "print(output)"
   ]
  },
  {
   "cell_type": "code",
   "execution_count": null,
   "id": "de9a2273",
   "metadata": {},
   "outputs": [],
   "source": []
  },
  {
   "cell_type": "markdown",
   "id": "437f4567",
   "metadata": {},
   "source": [
    "q6. Create two separate strings and add them together"
   ]
  },
  {
   "cell_type": "code",
   "execution_count": 22,
   "id": "f6c923f5",
   "metadata": {},
   "outputs": [
    {
     "name": "stdout",
     "output_type": "stream",
     "text": [
      "shaik\n",
      "haseena\n",
      "shaikhaseena\n"
     ]
    }
   ],
   "source": [
    "a=input()\n",
    "b=input()\n",
    "c=a+b\n",
    "print(c)"
   ]
  },
  {
   "cell_type": "markdown",
   "id": "24c85940",
   "metadata": {},
   "source": [
    "q7. Count The Number Of Vowels In A String"
   ]
  },
  {
   "cell_type": "code",
   "execution_count": 25,
   "id": "1a7fd66f",
   "metadata": {},
   "outputs": [
    {
     "name": "stdout",
     "output_type": "stream",
     "text": [
      "SHAIK haseena\n",
      "number of vowels :  6\n"
     ]
    }
   ],
   "source": [
    "a=['a','e','i','o','u']\n",
    "b=list(input().lower())\n",
    "count=0\n",
    "for i in b:\n",
    "    if i in a:\n",
    "        count+=1\n",
    "        \n",
    "print(\"number of vowels : \",count)"
   ]
  },
  {
   "cell_type": "markdown",
   "id": "31c6ac1c",
   "metadata": {},
   "source": [
    "q8. Convert A String To A Dictionary\n",
    "\n",
    "input:\n",
    "    \n",
    "    a = 'kamal'\n",
    "    \n",
    "output = {0:'k',1:'a',2:'m',3:'a',4:'l'}"
   ]
  },
  {
   "cell_type": "code",
   "execution_count": 2,
   "id": "7eb983df",
   "metadata": {},
   "outputs": [
    {
     "name": "stdout",
     "output_type": "stream",
     "text": [
      "kamal\n"
     ]
    },
    {
     "data": {
      "text/plain": [
       "{0: 'k', 1: 'a', 2: 'm', 3: 'a', 4: 'l'}"
      ]
     },
     "execution_count": 2,
     "metadata": {},
     "output_type": "execute_result"
    }
   ],
   "source": [
    "a=list(input())\n",
    "b={i:a[i] for i in range(len(a))}\n",
    "b"
   ]
  },
  {
   "cell_type": "markdown",
   "id": "64e320a4",
   "metadata": {},
   "source": [
    "q9. count letters and numbers in string "
   ]
  },
  {
   "cell_type": "code",
   "execution_count": 18,
   "id": "b1c78d93",
   "metadata": {},
   "outputs": [
    {
     "name": "stdout",
     "output_type": "stream",
     "text": [
      "hasee45678\n",
      "no of letters in string : 5\n",
      "total no of numbers in string : 5\n"
     ]
    }
   ],
   "source": [
    "a=input()\n",
    "letter_count=0\n",
    "num=0\n",
    "for i in a:\n",
    "    if i.isalpha():\n",
    "        letter_count+=1\n",
    "    else:\n",
    "        num+=1\n",
    "        \n",
    "print(f\"no of letters in string : {letter_count}\")\n",
    "print(f\"total no of numbers in string : {num}\")"
   ]
  },
  {
   "cell_type": "markdown",
   "id": "3620f50a",
   "metadata": {},
   "source": [
    "q10. Remove Numerical Values From A String\n",
    "\n"
   ]
  },
  {
   "cell_type": "code",
   "execution_count": 22,
   "id": "25b5e930",
   "metadata": {},
   "outputs": [
    {
     "name": "stdout",
     "output_type": "stream",
     "text": [
      "hase1234\n"
     ]
    },
    {
     "data": {
      "text/plain": [
       "'hase'"
      ]
     },
     "execution_count": 22,
     "metadata": {},
     "output_type": "execute_result"
    }
   ],
   "source": [
    "a=input()\n",
    "b=[]\n",
    "for i in a:\n",
    "    if i.isalpha():\n",
    "        b.append(i)\n",
    "a=''.join(b)\n",
    "a     "
   ]
  },
  {
   "cell_type": "code",
   "execution_count": null,
   "id": "97d1caaa",
   "metadata": {},
   "outputs": [],
   "source": []
  }
 ],
 "metadata": {
  "kernelspec": {
   "display_name": "Python 3 (ipykernel)",
   "language": "python",
   "name": "python3"
  },
  "language_info": {
   "codemirror_mode": {
    "name": "ipython",
    "version": 3
   },
   "file_extension": ".py",
   "mimetype": "text/x-python",
   "name": "python",
   "nbconvert_exporter": "python",
   "pygments_lexer": "ipython3",
   "version": "3.10.13"
  }
 },
 "nbformat": 4,
 "nbformat_minor": 5
}
