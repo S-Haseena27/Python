{
 "cells": [
  {
   "cell_type": "markdown",
   "id": "21068dee",
   "metadata": {},
   "source": [
    "#### Question 1: Write a Python program to create an empty tuple"
   ]
  },
  {
   "cell_type": "code",
   "execution_count": 3,
   "id": "e4d2acab",
   "metadata": {},
   "outputs": [
    {
     "data": {
      "text/plain": [
       "tuple"
      ]
     },
     "execution_count": 3,
     "metadata": {},
     "output_type": "execute_result"
    }
   ],
   "source": [
    "a=()\n",
    "type(a)"
   ]
  },
  {
   "cell_type": "markdown",
   "id": "7527dabb",
   "metadata": {},
   "source": [
    "#### Question 2: Write a Python program to access the elements of a tuple"
   ]
  },
  {
   "cell_type": "code",
   "execution_count": 1,
   "id": "d1c155a5",
   "metadata": {},
   "outputs": [
    {
     "name": "stdout",
     "output_type": "stream",
     "text": [
      "as 1 2 3 \n",
      "as\n",
      "1\n",
      "2\n",
      "3\n"
     ]
    }
   ],
   "source": [
    "a=input().split()\n",
    "a=tuple(a)\n",
    "for i in a:\n",
    "    print(i)"
   ]
  },
  {
   "cell_type": "markdown",
   "id": "6614069b",
   "metadata": {},
   "source": [
    "#### Question 3: Write a Python program to concatenate two tuples"
   ]
  },
  {
   "cell_type": "code",
   "execution_count": 2,
   "id": "1f6f4b70",
   "metadata": {},
   "outputs": [
    {
     "name": "stdout",
     "output_type": "stream",
     "text": [
      "a 1 5 6 gh\n",
      "gh 5 6 7 8 \n",
      "('a', '1', '5', '6', 'gh', 'gh', '5', '6', '7', '8')\n"
     ]
    }
   ],
   "source": [
    "a=input().split()\n",
    "a=tuple(a)\n",
    "\n",
    "b=input().split()\n",
    "b=tuple(b)\n",
    "\n",
    "c=a+b\n",
    "print(c)"
   ]
  },
  {
   "cell_type": "markdown",
   "id": "a654208b",
   "metadata": {},
   "source": [
    "#### Question 4: Write a Python program to find the length of a tuple."
   ]
  },
  {
   "cell_type": "code",
   "execution_count": 11,
   "id": "a3986d31",
   "metadata": {},
   "outputs": [
    {
     "name": "stdout",
     "output_type": "stream",
     "text": [
      "3 as fg vb sg 8 h\n",
      "7\n",
      "<class 'tuple'>\n"
     ]
    }
   ],
   "source": [
    "a=input().split()\n",
    "a=tuple(a)\n",
    "\n",
    "print(len(a))\n",
    "print(type(a))"
   ]
  },
  {
   "cell_type": "markdown",
   "id": "1540e95d",
   "metadata": {},
   "source": [
    "#### Question 5: Write a Python program to convert a tuple into a list."
   ]
  },
  {
   "cell_type": "code",
   "execution_count": 10,
   "id": "7718dbd0",
   "metadata": {},
   "outputs": [
    {
     "name": "stdout",
     "output_type": "stream",
     "text": [
      "3 as fg vb sg 8 h\n",
      "['3', 'as', 'fg', 'vb', 'sg', '8', 'h']\n"
     ]
    }
   ],
   "source": [
    "a=input().split()\n",
    "a=tuple(a)\n",
    "\n",
    "print(list(a))"
   ]
  },
  {
   "cell_type": "markdown",
   "id": "f1026cbf",
   "metadata": {},
   "source": [
    "#### Question 6: Write a Python program to find the maximum and minimum elements in a tuple"
   ]
  },
  {
   "cell_type": "code",
   "execution_count": 9,
   "id": "2ad9c33c",
   "metadata": {},
   "outputs": [
    {
     "name": "stdout",
     "output_type": "stream",
     "text": [
      "1 7 9 3 7 3 2\n",
      "1\n",
      "9\n"
     ]
    }
   ],
   "source": [
    "a=input().split()\n",
    "a=tuple(a)\n",
    "b = []\n",
    "for i in a:\n",
    "    b.append(i)\n",
    "print(min(b))\n",
    "print(max(b))"
   ]
  },
  {
   "cell_type": "markdown",
   "id": "ad577279",
   "metadata": {},
   "source": [
    "#### Question 7: Write a Python program to check if an element exists in a tuple"
   ]
  },
  {
   "cell_type": "code",
   "execution_count": 7,
   "id": "d50521c0",
   "metadata": {},
   "outputs": [
    {
     "name": "stdout",
     "output_type": "stream",
     "text": [
      "3 as fg vb sg 8 h 2\n",
      "2\n",
      "exist\n"
     ]
    }
   ],
   "source": [
    "a=input().split()\n",
    "a=tuple(a)\n",
    "\n",
    "b=input()\n",
    "\n",
    "if b in a:\n",
    "    print('exist')\n",
    "    \n",
    "else:\n",
    "    print('not exist')"
   ]
  },
  {
   "cell_type": "markdown",
   "id": "0a8bf09b",
   "metadata": {},
   "source": [
    "#### Question 8: Write a Python program to count the number of occurrences of an element in a tuple."
   ]
  },
  {
   "cell_type": "code",
   "execution_count": 5,
   "id": "8f29f020",
   "metadata": {},
   "outputs": [
    {
     "name": "stdout",
     "output_type": "stream",
     "text": [
      "1 2 3 9 2 4 d as ha as\n",
      "0\n"
     ]
    }
   ],
   "source": [
    "a=input().split()\n",
    "a=tuple(a)\n",
    "\n",
    "print(a.count(1))"
   ]
  },
  {
   "cell_type": "markdown",
   "id": "32802861",
   "metadata": {},
   "source": [
    "#### Question 9: Write a Python program to slice a tuple."
   ]
  },
  {
   "cell_type": "code",
   "execution_count": 4,
   "id": "98cfdb11",
   "metadata": {},
   "outputs": [
    {
     "name": "stdout",
     "output_type": "stream",
     "text": [
      "w d 3 7 h 7 as\n",
      "('3', '7', 'h')\n"
     ]
    }
   ],
   "source": [
    "a=input().split()\n",
    "a=tuple(a)\n",
    "\n",
    "b=a[2:5]\n",
    "\n",
    "print(b)\n",
    "\n"
   ]
  },
  {
   "cell_type": "markdown",
   "id": "a80b0c86",
   "metadata": {},
   "source": [
    "#### Question 10: Write a Python program to unpack a tuple into multiple variables."
   ]
  },
  {
   "cell_type": "code",
   "execution_count": 3,
   "id": "e5db2720",
   "metadata": {},
   "outputs": [
    {
     "name": "stdout",
     "output_type": "stream",
     "text": [
      "1  2 3 as fg vb sg 8 h\n",
      "1\n",
      "2\n",
      "3\n",
      "as\n",
      "fg\n",
      "vb\n",
      "sg\n",
      "8\n",
      "h\n"
     ]
    }
   ],
   "source": [
    "a=input().split()\n",
    "a=tuple(a)\n",
    "\n",
    "for i in a:\n",
    "    print(i)"
   ]
  },
  {
   "cell_type": "code",
   "execution_count": null,
   "id": "dd44c3b3",
   "metadata": {},
   "outputs": [],
   "source": []
  }
 ],
 "metadata": {
  "kernelspec": {
   "display_name": "Python 3 (ipykernel)",
   "language": "python",
   "name": "python3"
  },
  "language_info": {
   "codemirror_mode": {
    "name": "ipython",
    "version": 3
   },
   "file_extension": ".py",
   "mimetype": "text/x-python",
   "name": "python",
   "nbconvert_exporter": "python",
   "pygments_lexer": "ipython3",
   "version": "3.10.9"
  }
 },
 "nbformat": 4,
 "nbformat_minor": 5
}
